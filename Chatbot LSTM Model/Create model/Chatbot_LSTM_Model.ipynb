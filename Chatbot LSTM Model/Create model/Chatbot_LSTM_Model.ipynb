{
  "nbformat": 4,
  "nbformat_minor": 0,
  "metadata": {
    "colab": {
      "provenance": []
    },
    "kernelspec": {
      "name": "python3",
      "display_name": "Python 3"
    },
    "language_info": {
      "name": "python"
    },
    "accelerator": "GPU",
    "gpuClass": "standard"
  },
  "cells": [
    {
      "cell_type": "markdown",
      "metadata": {
        "id": "d18e160a"
      },
      "source": [
        "# **Install dan Import Library**"
      ]
    },
    {
      "cell_type": "code",
      "source": [
        "import nltk\n",
        "from nltk.stem import WordNetLemmatizer\n",
        "lemmatizer = WordNetLemmatizer()\n",
        "import json\n",
        "import pickle\n",
        "import pandas as pd\n",
        "import numpy as np\n",
        "from keras.models import Sequential\n",
        "from keras.layers import Dense, Activation, Dropout\n",
        "import random\n",
        "from keras_preprocessing.text import Tokenizer\n",
        "from keras_preprocessing.sequence import pad_sequences\n",
        "from sklearn.preprocessing import LabelEncoder\n",
        "from keras.layers import Input, Embedding, LSTM, Flatten, GlobalMaxPool1D\n",
        "from keras.models import Model\n",
        "from keras.optimizers import RMSprop\n",
        "import matplotlib.pyplot as plt\n",
        "from keras.utils.vis_utils import plot_model"
      ],
      "metadata": {
        "id": "Uw49vN_1BpZr"
      },
      "execution_count": null,
      "outputs": []
    },
    {
      "cell_type": "markdown",
      "metadata": {
        "id": "c4ysPVkwMBpt"
      },
      "source": [
        "#**Download NLTK Package**"
      ]
    },
    {
      "cell_type": "code",
      "source": [
        "nltk.download('punkt') \n",
        "nltk.download('wordnet')\n",
        "nltk.download('omw-1.4')"
      ],
      "metadata": {
        "colab": {
          "base_uri": "https://localhost:8080/"
        },
        "id": "ZFHfBZ3mO1QE",
        "outputId": "05e4eeed-cafb-4128-b5e7-49f1d1e886a4"
      },
      "execution_count": null,
      "outputs": [
        {
          "output_type": "stream",
          "name": "stderr",
          "text": [
            "[nltk_data] Downloading package punkt to /root/nltk_data...\n",
            "[nltk_data]   Package punkt is already up-to-date!\n",
            "[nltk_data] Downloading package wordnet to /root/nltk_data...\n",
            "[nltk_data]   Package wordnet is already up-to-date!\n",
            "[nltk_data] Downloading package omw-1.4 to /root/nltk_data...\n",
            "[nltk_data]   Package omw-1.4 is already up-to-date!\n"
          ]
        },
        {
          "output_type": "execute_result",
          "data": {
            "text/plain": [
              "True"
            ]
          },
          "metadata": {},
          "execution_count": 40
        }
      ]
    },
    {
      "cell_type": "markdown",
      "metadata": {
        "id": "_04lARv0LTe-"
      },
      "source": [
        "#**Download file yang dibutuhkan**"
      ]
    },
    {
      "cell_type": "markdown",
      "source": [
        "Download dataset json"
      ],
      "metadata": {
        "id": "0bmNy9F36XY0"
      }
    },
    {
      "cell_type": "code",
      "source": [
        "!wget -O intents.json https://www.dropbox.com/s/3jiidcrzwi40nbi/bot-fix.json?dl=0"
      ],
      "metadata": {
        "colab": {
          "base_uri": "https://localhost:8080/"
        },
        "id": "4ZNaUQrkCHsR",
        "outputId": "694f1613-5915-449b-a280-3ecf927707ca"
      },
      "execution_count": null,
      "outputs": [
        {
          "output_type": "stream",
          "name": "stdout",
          "text": [
            "--2022-12-07 09:35:32--  https://www.dropbox.com/s/3jiidcrzwi40nbi/bot-fix.json?dl=0\n",
            "Resolving www.dropbox.com (www.dropbox.com)... 162.125.81.18, 2620:100:6031:18::a27d:5112\n",
            "Connecting to www.dropbox.com (www.dropbox.com)|162.125.81.18|:443... connected.\n",
            "HTTP request sent, awaiting response... 302 Found\n",
            "Location: /s/raw/3jiidcrzwi40nbi/bot-fix.json [following]\n",
            "--2022-12-07 09:35:33--  https://www.dropbox.com/s/raw/3jiidcrzwi40nbi/bot-fix.json\n",
            "Reusing existing connection to www.dropbox.com:443.\n",
            "HTTP request sent, awaiting response... 302 Found\n",
            "Location: https://uc4b5fc0773dbcad0112bbb95d17.dl.dropboxusercontent.com/cd/0/inline/ByKAV2vAYYIKWWt54WWUdCr8IjiwZGycfxH9GlcSSOJKUFn6QIL0KL1IR47HZANnwtf1fGywuGgRE5-wbeXI-GUfy9E2nVCWUr2UQzItlVWGS1MhiqjH7VO7MVGby7x88xewx4tIUMGckU8aJ1F30ZjX-VNiDe1Zo2BPVqpCgISMpA/file# [following]\n",
            "--2022-12-07 09:35:33--  https://uc4b5fc0773dbcad0112bbb95d17.dl.dropboxusercontent.com/cd/0/inline/ByKAV2vAYYIKWWt54WWUdCr8IjiwZGycfxH9GlcSSOJKUFn6QIL0KL1IR47HZANnwtf1fGywuGgRE5-wbeXI-GUfy9E2nVCWUr2UQzItlVWGS1MhiqjH7VO7MVGby7x88xewx4tIUMGckU8aJ1F30ZjX-VNiDe1Zo2BPVqpCgISMpA/file\n",
            "Resolving uc4b5fc0773dbcad0112bbb95d17.dl.dropboxusercontent.com (uc4b5fc0773dbcad0112bbb95d17.dl.dropboxusercontent.com)... 162.125.64.15, 2620:100:6031:15::a27d:510f\n",
            "Connecting to uc4b5fc0773dbcad0112bbb95d17.dl.dropboxusercontent.com (uc4b5fc0773dbcad0112bbb95d17.dl.dropboxusercontent.com)|162.125.64.15|:443... connected.\n",
            "HTTP request sent, awaiting response... 200 OK\n",
            "Length: 69602 (68K) [text/plain]\n",
            "Saving to: ‘intents.json’\n",
            "\n",
            "intents.json        100%[===================>]  67.97K   168KB/s    in 0.4s    \n",
            "\n",
            "2022-12-07 09:35:35 (168 KB/s) - ‘intents.json’ saved [69602/69602]\n",
            "\n"
          ]
        }
      ]
    },
    {
      "cell_type": "markdown",
      "metadata": {
        "id": "CK_pZ9UKMkmG"
      },
      "source": [
        "# **Load Dataset Json**\n",
        "\n",
        "Tahapan selanjutnya adalah me-load dataset yang telah disediakan. Data yang dipakai dalam proyek ini menggunakan dataset manual yang dibuat oleh anggota kelompok ini. Dataset yang digunakan berupa format **.json** yang sangat cocok untuk membuat model Chatbot. Data Json merupakan data yang termasuk dalam *semi structured* yang dimana data ini menampung beberapa bagian data seperti **tag**, **pattern**, **context**, dan **response**."
      ]
    },
    {
      "cell_type": "code",
      "source": [
        "# mengimport dataset yang sudah didownload\n",
        "data_file=open('/content/intents.json').read()\n",
        "intents=json.loads(data_file)"
      ],
      "metadata": {
        "id": "OrjuOwJxCQUi"
      },
      "execution_count": null,
      "outputs": []
    },
    {
      "cell_type": "markdown",
      "metadata": {
        "id": "_qtCPEUwCZzg"
      },
      "source": [
        "#**Convert Json File to Pandas Dataframe**"
      ]
    },
    {
      "cell_type": "code",
      "source": [
        "# Mendapatkan semua data ke dalam list\n",
        "tags = [] # data tag\n",
        "inputs = [] # data input atau pattern\n",
        "responses = {} # data respon\n",
        "words=[] # Data kata\n",
        "classes=[] # Data Kelas atau Tag\n",
        "documents=[] # Data Kalimat Dokumen\n",
        "ignore=['?','!',',',\"'s\"] # Mengabaikan tanda spesial karakter"
      ],
      "metadata": {
        "id": "AS9B7Y4PCj6g"
      },
      "execution_count": null,
      "outputs": []
    },
    {
      "cell_type": "markdown",
      "metadata": {
        "id": "TAk-PDwzCrFZ"
      },
      "source": [
        "#**Download file yang dibutuhkan**"
      ]
    },
    {
      "cell_type": "markdown",
      "metadata": {
        "id": "IqIeJ8JjOZPh"
      },
      "source": [
        "Melakukan proses perulangan untuk mendapatkan data dari file.json kedalam setiap variabel list"
      ]
    },
    {
      "cell_type": "code",
      "source": [
        "for intent in intents['intents']:\n",
        "  responses[intent['tag']]=intent['responses']\n",
        "  for lines in intent['patterns']:\n",
        "    inputs.append(lines)\n",
        "    tags.append(intent['tag'])\n",
        "    for pattern in intent['patterns']:\n",
        "      w = nltk.word_tokenize(pattern)\n",
        "      words.extend(w)\n",
        "      documents.append((w, intent['tag']))\n",
        "      # add to our classes list\n",
        "      if intent['tag'] not in classes:\n",
        "        classes.append(intent['tag'])"
      ],
      "metadata": {
        "id": "noo9DgXt7BaH"
      },
      "execution_count": null,
      "outputs": []
    },
    {
      "cell_type": "code",
      "source": [
        "# Melakukan konversi data yang sudah diambil ke dalam dataframe\n",
        "data = pd.DataFrame({\"patterns\":inputs, \"tags\":tags})"
      ],
      "metadata": {
        "id": "8YLNimUL7jxk"
      },
      "execution_count": null,
      "outputs": []
    },
    {
      "cell_type": "code",
      "source": [
        "data"
      ],
      "metadata": {
        "colab": {
          "base_uri": "https://localhost:8080/",
          "height": 423
        },
        "id": "q98I41v0CWiD",
        "outputId": "2e47a95e-b8d0-48f4-ae37-20533b44b22b"
      },
      "execution_count": null,
      "outputs": [
        {
          "output_type": "execute_result",
          "data": {
            "text/plain": [
              "                        patterns      tags\n",
              "0                          hallo  greeting\n",
              "1                            hai  greeting\n",
              "2                           halo  greeting\n",
              "3                            hei  greeting\n",
              "4                             hi  greeting\n",
              "..                           ...       ...\n",
              "499             beri saya pantun    pantun\n",
              "500  bisakah kamu membuat pantun    pantun\n",
              "501                  pantun dong    pantun\n",
              "502            kasih pantun dong    pantun\n",
              "503                  buat pantun    pantun\n",
              "\n",
              "[504 rows x 2 columns]"
            ],
            "text/html": [
              "\n",
              "  <div id=\"df-872ad831-e522-4c7c-a2bc-eb10d0491aa5\">\n",
              "    <div class=\"colab-df-container\">\n",
              "      <div>\n",
              "<style scoped>\n",
              "    .dataframe tbody tr th:only-of-type {\n",
              "        vertical-align: middle;\n",
              "    }\n",
              "\n",
              "    .dataframe tbody tr th {\n",
              "        vertical-align: top;\n",
              "    }\n",
              "\n",
              "    .dataframe thead th {\n",
              "        text-align: right;\n",
              "    }\n",
              "</style>\n",
              "<table border=\"1\" class=\"dataframe\">\n",
              "  <thead>\n",
              "    <tr style=\"text-align: right;\">\n",
              "      <th></th>\n",
              "      <th>patterns</th>\n",
              "      <th>tags</th>\n",
              "    </tr>\n",
              "  </thead>\n",
              "  <tbody>\n",
              "    <tr>\n",
              "      <th>0</th>\n",
              "      <td>hallo</td>\n",
              "      <td>greeting</td>\n",
              "    </tr>\n",
              "    <tr>\n",
              "      <th>1</th>\n",
              "      <td>hai</td>\n",
              "      <td>greeting</td>\n",
              "    </tr>\n",
              "    <tr>\n",
              "      <th>2</th>\n",
              "      <td>halo</td>\n",
              "      <td>greeting</td>\n",
              "    </tr>\n",
              "    <tr>\n",
              "      <th>3</th>\n",
              "      <td>hei</td>\n",
              "      <td>greeting</td>\n",
              "    </tr>\n",
              "    <tr>\n",
              "      <th>4</th>\n",
              "      <td>hi</td>\n",
              "      <td>greeting</td>\n",
              "    </tr>\n",
              "    <tr>\n",
              "      <th>...</th>\n",
              "      <td>...</td>\n",
              "      <td>...</td>\n",
              "    </tr>\n",
              "    <tr>\n",
              "      <th>499</th>\n",
              "      <td>beri saya pantun</td>\n",
              "      <td>pantun</td>\n",
              "    </tr>\n",
              "    <tr>\n",
              "      <th>500</th>\n",
              "      <td>bisakah kamu membuat pantun</td>\n",
              "      <td>pantun</td>\n",
              "    </tr>\n",
              "    <tr>\n",
              "      <th>501</th>\n",
              "      <td>pantun dong</td>\n",
              "      <td>pantun</td>\n",
              "    </tr>\n",
              "    <tr>\n",
              "      <th>502</th>\n",
              "      <td>kasih pantun dong</td>\n",
              "      <td>pantun</td>\n",
              "    </tr>\n",
              "    <tr>\n",
              "      <th>503</th>\n",
              "      <td>buat pantun</td>\n",
              "      <td>pantun</td>\n",
              "    </tr>\n",
              "  </tbody>\n",
              "</table>\n",
              "<p>504 rows × 2 columns</p>\n",
              "</div>\n",
              "      <button class=\"colab-df-convert\" onclick=\"convertToInteractive('df-872ad831-e522-4c7c-a2bc-eb10d0491aa5')\"\n",
              "              title=\"Convert this dataframe to an interactive table.\"\n",
              "              style=\"display:none;\">\n",
              "        \n",
              "  <svg xmlns=\"http://www.w3.org/2000/svg\" height=\"24px\"viewBox=\"0 0 24 24\"\n",
              "       width=\"24px\">\n",
              "    <path d=\"M0 0h24v24H0V0z\" fill=\"none\"/>\n",
              "    <path d=\"M18.56 5.44l.94 2.06.94-2.06 2.06-.94-2.06-.94-.94-2.06-.94 2.06-2.06.94zm-11 1L8.5 8.5l.94-2.06 2.06-.94-2.06-.94L8.5 2.5l-.94 2.06-2.06.94zm10 10l.94 2.06.94-2.06 2.06-.94-2.06-.94-.94-2.06-.94 2.06-2.06.94z\"/><path d=\"M17.41 7.96l-1.37-1.37c-.4-.4-.92-.59-1.43-.59-.52 0-1.04.2-1.43.59L10.3 9.45l-7.72 7.72c-.78.78-.78 2.05 0 2.83L4 21.41c.39.39.9.59 1.41.59.51 0 1.02-.2 1.41-.59l7.78-7.78 2.81-2.81c.8-.78.8-2.07 0-2.86zM5.41 20L4 18.59l7.72-7.72 1.47 1.35L5.41 20z\"/>\n",
              "  </svg>\n",
              "      </button>\n",
              "      \n",
              "  <style>\n",
              "    .colab-df-container {\n",
              "      display:flex;\n",
              "      flex-wrap:wrap;\n",
              "      gap: 12px;\n",
              "    }\n",
              "\n",
              "    .colab-df-convert {\n",
              "      background-color: #E8F0FE;\n",
              "      border: none;\n",
              "      border-radius: 50%;\n",
              "      cursor: pointer;\n",
              "      display: none;\n",
              "      fill: #1967D2;\n",
              "      height: 32px;\n",
              "      padding: 0 0 0 0;\n",
              "      width: 32px;\n",
              "    }\n",
              "\n",
              "    .colab-df-convert:hover {\n",
              "      background-color: #E2EBFA;\n",
              "      box-shadow: 0px 1px 2px rgba(60, 64, 67, 0.3), 0px 1px 3px 1px rgba(60, 64, 67, 0.15);\n",
              "      fill: #174EA6;\n",
              "    }\n",
              "\n",
              "    [theme=dark] .colab-df-convert {\n",
              "      background-color: #3B4455;\n",
              "      fill: #D2E3FC;\n",
              "    }\n",
              "\n",
              "    [theme=dark] .colab-df-convert:hover {\n",
              "      background-color: #434B5C;\n",
              "      box-shadow: 0px 1px 3px 1px rgba(0, 0, 0, 0.15);\n",
              "      filter: drop-shadow(0px 1px 2px rgba(0, 0, 0, 0.3));\n",
              "      fill: #FFFFFF;\n",
              "    }\n",
              "  </style>\n",
              "\n",
              "      <script>\n",
              "        const buttonEl =\n",
              "          document.querySelector('#df-872ad831-e522-4c7c-a2bc-eb10d0491aa5 button.colab-df-convert');\n",
              "        buttonEl.style.display =\n",
              "          google.colab.kernel.accessAllowed ? 'block' : 'none';\n",
              "\n",
              "        async function convertToInteractive(key) {\n",
              "          const element = document.querySelector('#df-872ad831-e522-4c7c-a2bc-eb10d0491aa5');\n",
              "          const dataTable =\n",
              "            await google.colab.kernel.invokeFunction('convertToInteractive',\n",
              "                                                     [key], {});\n",
              "          if (!dataTable) return;\n",
              "\n",
              "          const docLinkHtml = 'Like what you see? Visit the ' +\n",
              "            '<a target=\"_blank\" href=https://colab.research.google.com/notebooks/data_table.ipynb>data table notebook</a>'\n",
              "            + ' to learn more about interactive tables.';\n",
              "          element.innerHTML = '';\n",
              "          dataTable['output_type'] = 'display_data';\n",
              "          await google.colab.output.renderOutput(dataTable, element);\n",
              "          const docLink = document.createElement('div');\n",
              "          docLink.innerHTML = docLinkHtml;\n",
              "          element.appendChild(docLink);\n",
              "        }\n",
              "      </script>\n",
              "    </div>\n",
              "  </div>\n",
              "  "
            ]
          },
          "metadata": {},
          "execution_count": 46
        }
      ]
    },
    {
      "cell_type": "code",
      "source": [
        "data.tags.unique()"
      ],
      "metadata": {
        "colab": {
          "base_uri": "https://localhost:8080/"
        },
        "id": "TTfvw8NRLfbF",
        "outputId": "8c0ee5a7-7a3f-49a7-ed13-12999baacf54"
      },
      "execution_count": null,
      "outputs": [
        {
          "output_type": "execute_result",
          "data": {
            "text/plain": [
              "array(['greeting', 'goodbye', 'terimakasih', 'penjelasan_mental_illness',\n",
              "       'pengidap_mental_illness', 'penyebab_mental_illness',\n",
              "       'Faktor_penyebab_gangguan_mental', 'Faktor_biologis',\n",
              "       'Faktor_psikologis', 'gejala_mental_illness_dewasa',\n",
              "       'gejala_mental_illness_remaja', 'gejala_mental_illness_anak',\n",
              "       'mental_illness_apakah_bisa_sembuh', 'cara_sembuh',\n",
              "       'pengobat_mental_illness', 'terapi_mental_illness',\n",
              "       'obat_mental_illness', 'whatshouldido', 'penyedia_layanan',\n",
              "       'pengobatan_yang_tersedia', 'perawatan',\n",
              "       'jenis_profesional_kesehatan_mental',\n",
              "       'menemukan_profesional_kesehatan_mental', 'pengetahuan_perawatan',\n",
              "       'bantuan_kesehatan_mental', 'pengetahuan_sebelum_pengobatan_baru',\n",
              "       'respon_obat', 'jenis_perawatan_kesehatan_mental',\n",
              "       'tempat_pendukung_kesehatan_mental', 'rawat_inap',\n",
              "       'kondisi_krisis', 'layanan_lokal', 'psikiatri', 'kesehatan_mental',\n",
              "       'dukungan', 'pencegahan_masalah_kesehatan_mental',\n",
              "       'obatt_kesehatan_mental', 'penyebab_masalah', 'kekhawatiran',\n",
              "       'tidak_sehat', 'Hubungan_dengan_oranglain',\n",
              "       'apa_yang_harus_dilakukan', 'informasi_kesehatan', 'menjaga',\n",
              "       'kesedihan_akibat_kehilangan', 'dokter', 'psikiater', 'psikologi',\n",
              "       'layanan_kesehatan_anak_dan _remaja', 'self_help',\n",
              "       'self_help_kecemasan', 'zat', 'konseling_gratis',\n",
              "       'pembayaran_kesehatan_mental', 'bjs', 'rujukan',\n",
              "       'psikiater_psikolog', 'psikoterapi_konseling', 'cbt_dbt',\n",
              "       'antidepresan', 'diagnosis_salah', 'khawatir', 'cedera_otak',\n",
              "       'gejala_skizofrenia', 'bunuh_diri', 'penyakit_mental', 'depresi',\n",
              "       'kecemasan', 'kecemasan_dan_stress', 'kesedihan_depresi',\n",
              "       'gangguan_siklotimik', 'bpd', 'kepribadian_skizoid', 'ASPD',\n",
              "       'obsesif_komplusif', 'gangguan_makan_berlebihan',\n",
              "       'Kepribadian_ganda', 'psikosis', 'halusinasi', 'Delusi',\n",
              "       'prodromal', 'narkoba', 'alkohol', 'Cannabidiol', 'acquaintance',\n",
              "       'age', 'annoying', 'bad', 'beclever', 'beautiful', 'birthday',\n",
              "       'boring', 'boss', 'busy', 'canyouhelp', 'chatbot', 'clever',\n",
              "       'crazy', 'fire', 'funny', 'good', 'happy', 'hobby', 'hungry',\n",
              "       'marryuser', 'myfriend', 'occupation', 'origin', 'ready', 'real',\n",
              "       'residence', 'right', 'sure', 'talktome', 'there', 'religion',\n",
              "       'holdon', 'hug', 'idontcare', 'sorry', 'howareyou',\n",
              "       'nicetomeetyou', 'nicetoseeyou', 'nicetotalktoyou', 'islam',\n",
              "       'whatareyoudoing', 'morning', 'noon', 'night', 'whatisitfriend',\n",
              "       'boy/girl.friend', 'bestfriend', 'borkenheart', 'giveup',\n",
              "       'nevergiveup', 'quote', 'pantun'], dtype=object)"
            ]
          },
          "metadata": {},
          "execution_count": 47
        }
      ]
    },
    {
      "cell_type": "code",
      "source": [
        "data.describe()"
      ],
      "metadata": {
        "colab": {
          "base_uri": "https://localhost:8080/",
          "height": 175
        },
        "id": "CJ8zaLC62x5e",
        "outputId": "6d38a348-b540-4397-8255-cb476ea2f26d"
      },
      "execution_count": null,
      "outputs": [
        {
          "output_type": "execute_result",
          "data": {
            "text/plain": [
              "                  patterns      tags\n",
              "count                  504       504\n",
              "unique                 500       137\n",
              "top     kamu menjengkelkan  greeting\n",
              "freq                     2        15"
            ],
            "text/html": [
              "\n",
              "  <div id=\"df-3854938f-ad2d-49b9-9e8e-2b7be58ffb02\">\n",
              "    <div class=\"colab-df-container\">\n",
              "      <div>\n",
              "<style scoped>\n",
              "    .dataframe tbody tr th:only-of-type {\n",
              "        vertical-align: middle;\n",
              "    }\n",
              "\n",
              "    .dataframe tbody tr th {\n",
              "        vertical-align: top;\n",
              "    }\n",
              "\n",
              "    .dataframe thead th {\n",
              "        text-align: right;\n",
              "    }\n",
              "</style>\n",
              "<table border=\"1\" class=\"dataframe\">\n",
              "  <thead>\n",
              "    <tr style=\"text-align: right;\">\n",
              "      <th></th>\n",
              "      <th>patterns</th>\n",
              "      <th>tags</th>\n",
              "    </tr>\n",
              "  </thead>\n",
              "  <tbody>\n",
              "    <tr>\n",
              "      <th>count</th>\n",
              "      <td>504</td>\n",
              "      <td>504</td>\n",
              "    </tr>\n",
              "    <tr>\n",
              "      <th>unique</th>\n",
              "      <td>500</td>\n",
              "      <td>137</td>\n",
              "    </tr>\n",
              "    <tr>\n",
              "      <th>top</th>\n",
              "      <td>kamu menjengkelkan</td>\n",
              "      <td>greeting</td>\n",
              "    </tr>\n",
              "    <tr>\n",
              "      <th>freq</th>\n",
              "      <td>2</td>\n",
              "      <td>15</td>\n",
              "    </tr>\n",
              "  </tbody>\n",
              "</table>\n",
              "</div>\n",
              "      <button class=\"colab-df-convert\" onclick=\"convertToInteractive('df-3854938f-ad2d-49b9-9e8e-2b7be58ffb02')\"\n",
              "              title=\"Convert this dataframe to an interactive table.\"\n",
              "              style=\"display:none;\">\n",
              "        \n",
              "  <svg xmlns=\"http://www.w3.org/2000/svg\" height=\"24px\"viewBox=\"0 0 24 24\"\n",
              "       width=\"24px\">\n",
              "    <path d=\"M0 0h24v24H0V0z\" fill=\"none\"/>\n",
              "    <path d=\"M18.56 5.44l.94 2.06.94-2.06 2.06-.94-2.06-.94-.94-2.06-.94 2.06-2.06.94zm-11 1L8.5 8.5l.94-2.06 2.06-.94-2.06-.94L8.5 2.5l-.94 2.06-2.06.94zm10 10l.94 2.06.94-2.06 2.06-.94-2.06-.94-.94-2.06-.94 2.06-2.06.94z\"/><path d=\"M17.41 7.96l-1.37-1.37c-.4-.4-.92-.59-1.43-.59-.52 0-1.04.2-1.43.59L10.3 9.45l-7.72 7.72c-.78.78-.78 2.05 0 2.83L4 21.41c.39.39.9.59 1.41.59.51 0 1.02-.2 1.41-.59l7.78-7.78 2.81-2.81c.8-.78.8-2.07 0-2.86zM5.41 20L4 18.59l7.72-7.72 1.47 1.35L5.41 20z\"/>\n",
              "  </svg>\n",
              "      </button>\n",
              "      \n",
              "  <style>\n",
              "    .colab-df-container {\n",
              "      display:flex;\n",
              "      flex-wrap:wrap;\n",
              "      gap: 12px;\n",
              "    }\n",
              "\n",
              "    .colab-df-convert {\n",
              "      background-color: #E8F0FE;\n",
              "      border: none;\n",
              "      border-radius: 50%;\n",
              "      cursor: pointer;\n",
              "      display: none;\n",
              "      fill: #1967D2;\n",
              "      height: 32px;\n",
              "      padding: 0 0 0 0;\n",
              "      width: 32px;\n",
              "    }\n",
              "\n",
              "    .colab-df-convert:hover {\n",
              "      background-color: #E2EBFA;\n",
              "      box-shadow: 0px 1px 2px rgba(60, 64, 67, 0.3), 0px 1px 3px 1px rgba(60, 64, 67, 0.15);\n",
              "      fill: #174EA6;\n",
              "    }\n",
              "\n",
              "    [theme=dark] .colab-df-convert {\n",
              "      background-color: #3B4455;\n",
              "      fill: #D2E3FC;\n",
              "    }\n",
              "\n",
              "    [theme=dark] .colab-df-convert:hover {\n",
              "      background-color: #434B5C;\n",
              "      box-shadow: 0px 1px 3px 1px rgba(0, 0, 0, 0.15);\n",
              "      filter: drop-shadow(0px 1px 2px rgba(0, 0, 0, 0.3));\n",
              "      fill: #FFFFFF;\n",
              "    }\n",
              "  </style>\n",
              "\n",
              "      <script>\n",
              "        const buttonEl =\n",
              "          document.querySelector('#df-3854938f-ad2d-49b9-9e8e-2b7be58ffb02 button.colab-df-convert');\n",
              "        buttonEl.style.display =\n",
              "          google.colab.kernel.accessAllowed ? 'block' : 'none';\n",
              "\n",
              "        async function convertToInteractive(key) {\n",
              "          const element = document.querySelector('#df-3854938f-ad2d-49b9-9e8e-2b7be58ffb02');\n",
              "          const dataTable =\n",
              "            await google.colab.kernel.invokeFunction('convertToInteractive',\n",
              "                                                     [key], {});\n",
              "          if (!dataTable) return;\n",
              "\n",
              "          const docLinkHtml = 'Like what you see? Visit the ' +\n",
              "            '<a target=\"_blank\" href=https://colab.research.google.com/notebooks/data_table.ipynb>data table notebook</a>'\n",
              "            + ' to learn more about interactive tables.';\n",
              "          element.innerHTML = '';\n",
              "          dataTable['output_type'] = 'display_data';\n",
              "          await google.colab.output.renderOutput(dataTable, element);\n",
              "          const docLink = document.createElement('div');\n",
              "          docLink.innerHTML = docLinkHtml;\n",
              "          element.appendChild(docLink);\n",
              "        }\n",
              "      </script>\n",
              "    </div>\n",
              "  </div>\n",
              "  "
            ]
          },
          "metadata": {},
          "execution_count": 48
        }
      ]
    },
    {
      "cell_type": "code",
      "source": [
        "data.info()"
      ],
      "metadata": {
        "colab": {
          "base_uri": "https://localhost:8080/"
        },
        "id": "UiU-S4Sd24M3",
        "outputId": "dd1c48e3-963e-43dd-a1d2-6cd399b29de3"
      },
      "execution_count": null,
      "outputs": [
        {
          "output_type": "stream",
          "name": "stdout",
          "text": [
            "<class 'pandas.core.frame.DataFrame'>\n",
            "RangeIndex: 504 entries, 0 to 503\n",
            "Data columns (total 2 columns):\n",
            " #   Column    Non-Null Count  Dtype \n",
            "---  ------    --------------  ----- \n",
            " 0   patterns  504 non-null    object\n",
            " 1   tags      504 non-null    object\n",
            "dtypes: object(2)\n",
            "memory usage: 8.0+ KB\n"
          ]
        }
      ]
    },
    {
      "cell_type": "code",
      "source": [
        "data.isnull().sum()"
      ],
      "metadata": {
        "colab": {
          "base_uri": "https://localhost:8080/"
        },
        "id": "r1P_R-aU27zk",
        "outputId": "6353af63-e9ee-483f-8059-37a6d5b27e14"
      },
      "execution_count": null,
      "outputs": [
        {
          "output_type": "execute_result",
          "data": {
            "text/plain": [
              "patterns    0\n",
              "tags        0\n",
              "dtype: int64"
            ]
          },
          "metadata": {},
          "execution_count": 50
        }
      ]
    },
    {
      "cell_type": "markdown",
      "metadata": {
        "id": "ToClACZcPkfB"
      },
      "source": [
        "Setelah data tersebut berhasil dikonversi ke dalam sebuah dataframe, maka lankah selanjutnya adalah melakukan **preprocessing data**. "
      ]
    },
    {
      "cell_type": "markdown",
      "source": [
        "# **Preprocessing The Data**\n",
        "\n",
        "Setelah kita meload data dan mengonversi data json menjadi dataframe. Tahapan selanjutnya adalah praproses pada dataset yang kita gunakan saat ini yaitu dengan cara:\n",
        "\n",
        "![Praproses.png](data:image/png;base64,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)\n",
        "\n",
        "1.   Remove Punctuations (Menghapus Punktuasi)\n",
        "2.   Lematization (Lematisasi)\n",
        "3.   Tokenization (Tokenisasi)\n",
        "4.   Apply Padding (Padding)\n",
        "5.   Encoding the Outputs (Konversi Keluaran Enkoding)\n",
        "\n",
        "Kelima tahapan pemrosesan teks ini dijelaskan pada bagian langkah selanjutnya."
      ],
      "metadata": {
        "id": "vHnr2WFvebeJ"
      }
    },
    {
      "cell_type": "markdown",
      "source": [
        "## **Remove Punctuations**\n",
        "\n",
        "Tahapan praproses pada data teks yang pertama adalah menghapus punktuasi atau tanda baca seperti *special character* yaitu **'!'** (**tanda seru**) **','** (**tanda koma**) **'.'** (**tanda titik sebagai berhenti**) '**?**' (**tanda tanya**) dan tanda baca yang lain. Tahapan ini gunanya untuk mempermudah pemrosesan data teks yang akan kita olah."
      ],
      "metadata": {
        "id": "u_04NeXTIImg"
      }
    },
    {
      "cell_type": "code",
      "execution_count": null,
      "metadata": {
        "id": "3r2BFmUUQz4r",
        "colab": {
          "base_uri": "https://localhost:8080/",
          "height": 423
        },
        "outputId": "4bac99b1-ff7e-4686-c8ea-d0df414bd0fd"
      },
      "outputs": [
        {
          "output_type": "execute_result",
          "data": {
            "text/plain": [
              "                        patterns      tags\n",
              "0                          hallo  greeting\n",
              "1                            hai  greeting\n",
              "2                           halo  greeting\n",
              "3                            hei  greeting\n",
              "4                             hi  greeting\n",
              "..                           ...       ...\n",
              "499             beri saya pantun    pantun\n",
              "500  bisakah kamu membuat pantun    pantun\n",
              "501                  pantun dong    pantun\n",
              "502            kasih pantun dong    pantun\n",
              "503                  buat pantun    pantun\n",
              "\n",
              "[504 rows x 2 columns]"
            ],
            "text/html": [
              "\n",
              "  <div id=\"df-f0c43150-ad2a-46a1-a88b-06e4a820b8f5\">\n",
              "    <div class=\"colab-df-container\">\n",
              "      <div>\n",
              "<style scoped>\n",
              "    .dataframe tbody tr th:only-of-type {\n",
              "        vertical-align: middle;\n",
              "    }\n",
              "\n",
              "    .dataframe tbody tr th {\n",
              "        vertical-align: top;\n",
              "    }\n",
              "\n",
              "    .dataframe thead th {\n",
              "        text-align: right;\n",
              "    }\n",
              "</style>\n",
              "<table border=\"1\" class=\"dataframe\">\n",
              "  <thead>\n",
              "    <tr style=\"text-align: right;\">\n",
              "      <th></th>\n",
              "      <th>patterns</th>\n",
              "      <th>tags</th>\n",
              "    </tr>\n",
              "  </thead>\n",
              "  <tbody>\n",
              "    <tr>\n",
              "      <th>0</th>\n",
              "      <td>hallo</td>\n",
              "      <td>greeting</td>\n",
              "    </tr>\n",
              "    <tr>\n",
              "      <th>1</th>\n",
              "      <td>hai</td>\n",
              "      <td>greeting</td>\n",
              "    </tr>\n",
              "    <tr>\n",
              "      <th>2</th>\n",
              "      <td>halo</td>\n",
              "      <td>greeting</td>\n",
              "    </tr>\n",
              "    <tr>\n",
              "      <th>3</th>\n",
              "      <td>hei</td>\n",
              "      <td>greeting</td>\n",
              "    </tr>\n",
              "    <tr>\n",
              "      <th>4</th>\n",
              "      <td>hi</td>\n",
              "      <td>greeting</td>\n",
              "    </tr>\n",
              "    <tr>\n",
              "      <th>...</th>\n",
              "      <td>...</td>\n",
              "      <td>...</td>\n",
              "    </tr>\n",
              "    <tr>\n",
              "      <th>499</th>\n",
              "      <td>beri saya pantun</td>\n",
              "      <td>pantun</td>\n",
              "    </tr>\n",
              "    <tr>\n",
              "      <th>500</th>\n",
              "      <td>bisakah kamu membuat pantun</td>\n",
              "      <td>pantun</td>\n",
              "    </tr>\n",
              "    <tr>\n",
              "      <th>501</th>\n",
              "      <td>pantun dong</td>\n",
              "      <td>pantun</td>\n",
              "    </tr>\n",
              "    <tr>\n",
              "      <th>502</th>\n",
              "      <td>kasih pantun dong</td>\n",
              "      <td>pantun</td>\n",
              "    </tr>\n",
              "    <tr>\n",
              "      <th>503</th>\n",
              "      <td>buat pantun</td>\n",
              "      <td>pantun</td>\n",
              "    </tr>\n",
              "  </tbody>\n",
              "</table>\n",
              "<p>504 rows × 2 columns</p>\n",
              "</div>\n",
              "      <button class=\"colab-df-convert\" onclick=\"convertToInteractive('df-f0c43150-ad2a-46a1-a88b-06e4a820b8f5')\"\n",
              "              title=\"Convert this dataframe to an interactive table.\"\n",
              "              style=\"display:none;\">\n",
              "        \n",
              "  <svg xmlns=\"http://www.w3.org/2000/svg\" height=\"24px\"viewBox=\"0 0 24 24\"\n",
              "       width=\"24px\">\n",
              "    <path d=\"M0 0h24v24H0V0z\" fill=\"none\"/>\n",
              "    <path d=\"M18.56 5.44l.94 2.06.94-2.06 2.06-.94-2.06-.94-.94-2.06-.94 2.06-2.06.94zm-11 1L8.5 8.5l.94-2.06 2.06-.94-2.06-.94L8.5 2.5l-.94 2.06-2.06.94zm10 10l.94 2.06.94-2.06 2.06-.94-2.06-.94-.94-2.06-.94 2.06-2.06.94z\"/><path d=\"M17.41 7.96l-1.37-1.37c-.4-.4-.92-.59-1.43-.59-.52 0-1.04.2-1.43.59L10.3 9.45l-7.72 7.72c-.78.78-.78 2.05 0 2.83L4 21.41c.39.39.9.59 1.41.59.51 0 1.02-.2 1.41-.59l7.78-7.78 2.81-2.81c.8-.78.8-2.07 0-2.86zM5.41 20L4 18.59l7.72-7.72 1.47 1.35L5.41 20z\"/>\n",
              "  </svg>\n",
              "      </button>\n",
              "      \n",
              "  <style>\n",
              "    .colab-df-container {\n",
              "      display:flex;\n",
              "      flex-wrap:wrap;\n",
              "      gap: 12px;\n",
              "    }\n",
              "\n",
              "    .colab-df-convert {\n",
              "      background-color: #E8F0FE;\n",
              "      border: none;\n",
              "      border-radius: 50%;\n",
              "      cursor: pointer;\n",
              "      display: none;\n",
              "      fill: #1967D2;\n",
              "      height: 32px;\n",
              "      padding: 0 0 0 0;\n",
              "      width: 32px;\n",
              "    }\n",
              "\n",
              "    .colab-df-convert:hover {\n",
              "      background-color: #E2EBFA;\n",
              "      box-shadow: 0px 1px 2px rgba(60, 64, 67, 0.3), 0px 1px 3px 1px rgba(60, 64, 67, 0.15);\n",
              "      fill: #174EA6;\n",
              "    }\n",
              "\n",
              "    [theme=dark] .colab-df-convert {\n",
              "      background-color: #3B4455;\n",
              "      fill: #D2E3FC;\n",
              "    }\n",
              "\n",
              "    [theme=dark] .colab-df-convert:hover {\n",
              "      background-color: #434B5C;\n",
              "      box-shadow: 0px 1px 3px 1px rgba(0, 0, 0, 0.15);\n",
              "      filter: drop-shadow(0px 1px 2px rgba(0, 0, 0, 0.3));\n",
              "      fill: #FFFFFF;\n",
              "    }\n",
              "  </style>\n",
              "\n",
              "      <script>\n",
              "        const buttonEl =\n",
              "          document.querySelector('#df-f0c43150-ad2a-46a1-a88b-06e4a820b8f5 button.colab-df-convert');\n",
              "        buttonEl.style.display =\n",
              "          google.colab.kernel.accessAllowed ? 'block' : 'none';\n",
              "\n",
              "        async function convertToInteractive(key) {\n",
              "          const element = document.querySelector('#df-f0c43150-ad2a-46a1-a88b-06e4a820b8f5');\n",
              "          const dataTable =\n",
              "            await google.colab.kernel.invokeFunction('convertToInteractive',\n",
              "                                                     [key], {});\n",
              "          if (!dataTable) return;\n",
              "\n",
              "          const docLinkHtml = 'Like what you see? Visit the ' +\n",
              "            '<a target=\"_blank\" href=https://colab.research.google.com/notebooks/data_table.ipynb>data table notebook</a>'\n",
              "            + ' to learn more about interactive tables.';\n",
              "          element.innerHTML = '';\n",
              "          dataTable['output_type'] = 'display_data';\n",
              "          await google.colab.output.renderOutput(dataTable, element);\n",
              "          const docLink = document.createElement('div');\n",
              "          docLink.innerHTML = docLinkHtml;\n",
              "          element.appendChild(docLink);\n",
              "        }\n",
              "      </script>\n",
              "    </div>\n",
              "  </div>\n",
              "  "
            ]
          },
          "metadata": {},
          "execution_count": 51
        }
      ],
      "source": [
        "import string\n",
        "data['patterns'] = data['patterns'].apply(lambda wrd:[ltrs.lower() for ltrs in wrd if ltrs not in string.punctuation])\n",
        "data['patterns'] = data['patterns'].apply(lambda wrd: ''.join(wrd))\n",
        "data"
      ]
    },
    {
      "cell_type": "markdown",
      "source": [
        "## **Lemmatization (Lematisasi)**\n",
        "\n",
        "Setelah menghapus punktuasi atau tanda baca, tahapan selanjutnya yaitu Lematisasi atau Lemmatization. **Apa itu Lematisasi?**\n",
        "\n",
        "Lematisasi atau Lemmatization adalah proses dimana merujuk pada melakukan sesuatu menggunakan vocabulary atau kosakata dan analisis morfologi kata-kata untuk menghilangkan *inflectional endings only* dan untuk mengembalikan bentuk *dictionary* (kata dalam kamus) dari sebuah kata yang dikenal sebagai ***lemma***. \n",
        "\n",
        "Contoh Lematisasi : **Menggunakan** (Kata Imbuhan) -> **Guna** (Kata Dasar) \n",
        "\n",
        "Dalam contoh berikut proses lematisasi awalnya data teks menggunakan kata imbuhan yaitu **Menggunakan** dimana **meng-** + **guna** (kata dasar yang berawalan vokal g) + **kan** (sebagai akhiran) diubah menjadi kata dasar yaitu '**Guna**'. \n",
        "\n",
        "Proses ini dimana menghilangkan Prefiks pada imbuhan (**Meng-**) dan Suffiks pada (**-kan**)."
      ],
      "metadata": {
        "id": "5brR-qBLJDa_"
      }
    },
    {
      "cell_type": "code",
      "execution_count": null,
      "metadata": {
        "id": "ncvI3KU8RAnA",
        "colab": {
          "base_uri": "https://localhost:8080/"
        },
        "outputId": "710e6b0a-8fcb-448f-c71f-b251ebbadce4"
      },
      "outputs": [
        {
          "output_type": "stream",
          "name": "stdout",
          "text": [
            "521 unique lemmatized words ['(', ')', '.', '[', ']', 'ada', 'adalah', 'afternoon', 'agama', 'agar', 'akan', 'akibat', 'aku', 'alami', 'alasan', 'alkohol', 'ambang', 'anak', 'anak-anak', 'anda', 'aneh', 'antara', 'antidepresan', 'antisosial', 'apa', 'apakah', 'arti', 'artinya', 'asal', 'aspd', 'assalamualaikum', 'atau', 'awal', 'bagaimana', 'bagian', 'bagimana', 'bahagia', 'bahwa', 'bai', 'baik', 'banget', 'bantu', 'bantuan', 'bantuanmu', 'banyak', 'baru', 'bayar', 'bebahaya', 'bekerja', 'belajar', 'benar', 'benar-benar', 'bener', 'berada', 'berapa', 'berarti', 'berasal', 'berbagi', 'berbiaya', 'berbicara', 'berguna', 'berhenti', 'beri', 'berkualitas', 'berlebihan', 'berobat', 'berpelukan', 'berpikir', 'bersenang-senang', 'berteman', 'bertemu', 'betapa', 'biasa', 'bicara', 'bimbang', 'bimbingan', 'binge-eating', 'biologis', 'bisa', 'bisakah', 'boleh', 'bolehkah', 'borderline', 'bosan', 'bosmu', 'bpd', 'bpjs', 'bro', 'buat', 'bukti', 'bunuh', 'buruk', 'butuh', 'bye', 'byee', 'cannabidiol', 'cantik', 'cara', 'cbd', 'cbt', 'cedera', 'cerdas', 'cerita', 'ceritakan', 'chatbot', 'cidera', 'cintai', 'ciri-ciri', 'cocok', 'cookie', 'dadah', 'dah', 'dalam', 'dan', 'dapat', 'dapatkan', 'dari', 'day', 'dbt', 'definisi', 'delusi', 'dengan', 'denganku', 'denganmu', 'depresi', 'dewasa', 'di', 'diagnosis', 'diakses', 'dibuat', 'diciptakan', 'did', 'didiagnosis', 'dilakukan', 'diman', 'dimana', 'dipecat', 'diri', 'dirimu', 'disorder', 'disosiatif', 'dokter', 'dong', 'dukungan', 'faktor', 'fisik', 'gambarkan', 'ganda', 'gangguan', 'ganguan', 'gejala', 'gejala-gejala', 'gila', 'good', 'gratis', 'grup', 'hai', 'hal', 'hallo', 'halo', 'halusinasi', 'hanya', 'hanyalah', 'harap', 'hari', 'hari-hariku', 'harimu', 'harus', 'hati', 'hei', 'help', 'hep', 'hi', 'hindari', 'hipmonia', 'hobi', 'hobimu', 'hukum', 'hy', 'identitas', 'illnes', 'illness', 'ilmuwan', 'inap', 'infomasi', 'informasi', 'ingin', 'ini', 'itu', 'iya', 'jadilah', 'jelek', 'jenis', 'jenis-jenis', 'jika', 'jiwa', 'jumpa', 'kabar', 'kabarmu', 'kalau', 'kamu', 'kantor', 'kantormu', 'kapan', 'kasih', 'katakan', 'kau', 'kawan', 'ke', 'keadaan', 'kebahagiaan', 'kecemasan', 'kehidupan', 'kehilangan', 'kekhawatiran', 'kemajuan', 'kemana', 'kenapa', 'kepada', 'kepribadiaan', 'kepribadian', 'kerabat', 'kesal', 'kesedihan', 'kesehatan', 'ketahui', 'ketika', 'khawatir', 'kita', 'kondisi', 'konseling', 'konselor', 'kotamu', 'krisis', 'lagi', 'lagkah', 'lahir', 'lain', 'lainnya', 'lakukan', 'langkah', 'lanjut', 'lanjutan', 'lapar', 'layanan', 'lebih', 'lingkungan', 'lokal', 'lokasi', 'luar', 'lucu', 'maaf', 'maafkan', 'makan', 'makasih', 'malam', 'mana', 'mari', 'masalah', 'masih', 'masuk', 'materi', 'maukah', 'melakukan', 'melihatmu', 'membantu', 'membantuku', 'membayar', 'membeli', 'membencimu', 'memberi', 'membosankan', 'membosankannya', 'membuat', 'membuatku', 'memburuk', 'memecatmu', 'memelukmu', 'memiliki', 'meminta', 'meminumnya', 'mempelajari', 'mempengaruhi', 'mempunyai', 'memulai', 'mencari', 'mencegah', 'mencintaimu', 'mendapatkan', 'menderita', 'mendukung', 'menemui', 'menemukan', 'menemumkan', 'menerima', 'mengalami', 'mengapa', 'mengatakan', 'mengatasi', 'mengelola', 'mengenai', 'mengenal', 'mengetahui', 'mengganggu', 'menghadapi', 'menghubungi', 'mengkonsumsi', 'mengobrol', 'menikah', 'menikahlah', 'menimbulkan', 'menjadi', 'menjaga', 'menjengkelkan', 'mental', 'menunggu', 'menurutku', 'menurutmu', 'menyebabkan', 'menyebalkan', 'menyebutkan', 'menyelsaikan', 'menyembuhkan', 'menyenangkan', 'menyerah', 'menyesal', 'merasa', 'merayakan', 'metode', 'minta', 'minum', 'minyak', 'mitos', 'morning', 'mu', 'mudah', 'muncul', 'munculnya', 'munncul', 'nama', 'narkoba', 'nsrkotika', 'nya', 'nyata', 'obat', 'obsesif-kompulsif', 'ocpd', 'of', 'orang', 'otak', 'pacar', 'pada', 'pagi', 'paling', 'palsu', 'pantun', 'para', 'pasien', 'peduli', 'peluk', 'pelukan', 'pembayaran', 'pemikiran', 'pemilikmu', 'pencegahan', 'penderita', 'penderitaan', 'pendukung', 'pengatahuan', 'pengertian', 'pengetahuan', 'penggunaan', 'pengidap', 'pengobatan', 'penjelasan', 'penting', 'penuh', 'penyakit', 'penyebab', 'penyedia', 'penyembuhan', 'perawatan', 'perawtaan', 'perbedaan', 'perlu', 'personality', 'pertlongan', 'petunjuk', 'pikir', 'pikiran', 'pintar', 'platformmu', 'prodromal', 'profesional', 'psikiater', 'psikiatri', 'psikolog', 'psikologis', 'psikosis', 'psikoterapi', 'punya', 'pusat', 'quote', 'rasa', 'rawat', 'remaja', 'rendah', 'resiko', 'respons', 'robot', 'rujukan', 'rumahmu', 'sahabat', 'saja', 'sakit', 'sama', 'sampai', 'sana', 'sangat', 'sanggup', 'saran', 'satu', 'satu-satunya', 'saya', 'sayangi', 'sebagai', 'sebelum', 'sebenarnya', 'sebentar', 'seberapa', 'sedang', 'sedih', 'see', 'seharusnya', 'sehat', 'sekali', 'sekarang', 'sekitar', 'selamat', 'self', 'self-help', 'sembuh', 'senang', 'sendiri', 'seorang', 'seperti', 'sepertimu', 'sering', 'seseorang', 'sesuai', 'sesuatu', 'setelah', 'si', 'siang', 'siap', 'siapa', 'sibuk', 'siklotimik', 'sini', 'skizofrenia', 'skizoid', 'sore', 'sosial', 'stabil', 'status', 'stres', 'stress', 'sudah', 'tahu', 'tahunmu', 'takut', 'tampak', 'tampaknya', 'tanda-tanda', 'tantangan', 'telah', 'teman', 'temanku', 'temanmu', 'tempat', 'tentang', 'tepat', 'terapi', 'terbuka', 'terburuk', 'terdaftar', 'terdekat', 'terhadap', 'terima', 'terjadi', 'terjadinya', 'terkait', 'terkena', 'terlalu', 'terlibat', 'terlihat', 'tertawa', 'tertentu', 'tetap', 'tetapi', 'thank', 'thanks', 'the', 'tidak', 'timbulnya', 'tinggal', 'tinggalmu', 'tsb', 'tunggu', 'ulang', 'umur', 'umurmu', 'untuk', 'untukku', 'wabarakatu', 'warahmatullahi', 'yakin', 'yang', 'you', 'zat', '|selamat']\n"
          ]
        }
      ],
      "source": [
        "words=[lemmatizer.lemmatize(word.lower()) for word in words if word not in ignore]\n",
        "words=sorted(list(set(words)))\n",
        "\n",
        "print (len(words), \"unique lemmatized words\", words)"
      ]
    },
    {
      "cell_type": "markdown",
      "source": [
        "### **Menyortir Data Kelas Tags**"
      ],
      "metadata": {
        "id": "zmZpqovQE1Zb"
      }
    },
    {
      "cell_type": "code",
      "source": [
        "# sort classes\n",
        "classes = sorted(list(set(classes)))\n",
        "print (len(classes), \"classes\", classes)"
      ],
      "metadata": {
        "id": "TK_v4Zw5P8rn",
        "colab": {
          "base_uri": "https://localhost:8080/"
        },
        "outputId": "13456ff3-3c37-4dc8-8f13-42abe3c55496"
      },
      "execution_count": null,
      "outputs": [
        {
          "output_type": "stream",
          "name": "stdout",
          "text": [
            "137 classes ['ASPD', 'Cannabidiol', 'Delusi', 'Faktor_biologis', 'Faktor_penyebab_gangguan_mental', 'Faktor_psikologis', 'Hubungan_dengan_oranglain', 'Kepribadian_ganda', 'acquaintance', 'age', 'alkohol', 'annoying', 'antidepresan', 'apa_yang_harus_dilakukan', 'bad', 'bantuan_kesehatan_mental', 'beautiful', 'beclever', 'bestfriend', 'birthday', 'bjs', 'boring', 'borkenheart', 'boss', 'boy/girl.friend', 'bpd', 'bunuh_diri', 'busy', 'canyouhelp', 'cara_sembuh', 'cbt_dbt', 'cedera_otak', 'chatbot', 'clever', 'crazy', 'depresi', 'diagnosis_salah', 'dokter', 'dukungan', 'fire', 'funny', 'gangguan_makan_berlebihan', 'gangguan_siklotimik', 'gejala_mental_illness_anak', 'gejala_mental_illness_dewasa', 'gejala_mental_illness_remaja', 'gejala_skizofrenia', 'giveup', 'good', 'goodbye', 'greeting', 'halusinasi', 'happy', 'hobby', 'holdon', 'howareyou', 'hug', 'hungry', 'idontcare', 'informasi_kesehatan', 'islam', 'jenis_perawatan_kesehatan_mental', 'jenis_profesional_kesehatan_mental', 'kecemasan', 'kecemasan_dan_stress', 'kekhawatiran', 'kepribadian_skizoid', 'kesedihan_akibat_kehilangan', 'kesedihan_depresi', 'kesehatan_mental', 'khawatir', 'kondisi_krisis', 'konseling_gratis', 'layanan_kesehatan_anak_dan _remaja', 'layanan_lokal', 'marryuser', 'menemukan_profesional_kesehatan_mental', 'menjaga', 'mental_illness_apakah_bisa_sembuh', 'morning', 'myfriend', 'narkoba', 'nevergiveup', 'nicetomeetyou', 'nicetoseeyou', 'nicetotalktoyou', 'night', 'noon', 'obat_mental_illness', 'obatt_kesehatan_mental', 'obsesif_komplusif', 'occupation', 'origin', 'pantun', 'pembayaran_kesehatan_mental', 'pencegahan_masalah_kesehatan_mental', 'pengetahuan_perawatan', 'pengetahuan_sebelum_pengobatan_baru', 'pengidap_mental_illness', 'pengobat_mental_illness', 'pengobatan_yang_tersedia', 'penjelasan_mental_illness', 'penyakit_mental', 'penyebab_masalah', 'penyebab_mental_illness', 'penyedia_layanan', 'perawatan', 'prodromal', 'psikiater', 'psikiater_psikolog', 'psikiatri', 'psikologi', 'psikosis', 'psikoterapi_konseling', 'quote', 'rawat_inap', 'ready', 'real', 'religion', 'residence', 'respon_obat', 'right', 'rujukan', 'self_help', 'self_help_kecemasan', 'sorry', 'sure', 'talktome', 'tempat_pendukung_kesehatan_mental', 'terapi_mental_illness', 'terimakasih', 'there', 'tidak_sehat', 'whatareyoudoing', 'whatisitfriend', 'whatshouldido', 'zat']\n"
          ]
        }
      ]
    },
    {
      "cell_type": "markdown",
      "source": [
        "### **Mencari Jumlah Keseluruhan Data Teks**"
      ],
      "metadata": {
        "id": "u8s3ZKI9FCwo"
      }
    },
    {
      "cell_type": "code",
      "source": [
        "# documents = combination between patterns and intents\n",
        "print (len(documents), \"documents\")"
      ],
      "metadata": {
        "id": "Tv5lLFn1QCDP",
        "colab": {
          "base_uri": "https://localhost:8080/"
        },
        "outputId": "2de19598-0181-4d71-b653-06c411d208c6"
      },
      "execution_count": null,
      "outputs": [
        {
          "output_type": "stream",
          "name": "stdout",
          "text": [
            "2440 documents\n"
          ]
        }
      ]
    },
    {
      "cell_type": "markdown",
      "source": [
        "## **Tokenization (Tokenisasi)**\n",
        "\n",
        "Setelah proses lematisasi dan mencari tahu data classes dan jumlah keseluruhan data patterns dengan intents-nya. Maka, tahapan selanjutnya proses tokenisasi. **Apa itu Tokenisasi?**\n",
        "\n",
        "Tokenisasi adalah suatu proses memberikan urutan karakter dan sebuah unit dokumen terdefinisi. Tokenisasi juga merupakan tugas untuk memecah kalimat menjadi bagian-bagian yang disebut dengan '**Token**' dan menghilangkan bagian tertentu seperti tanda baca.\n",
        "\n",
        "Contohnya: **Aku Pergi Ke Makassar** -> '**Aku**' '**Pergi**' '**Ke**' '**Makassar**'"
      ],
      "metadata": {
        "id": "sVdv1gW5N7a6"
      }
    },
    {
      "cell_type": "code",
      "source": [
        "# Tokenize the data (Tokenisasi Data)\n",
        "tokenizer = Tokenizer(num_words=2500)\n",
        "tokenizer.fit_on_texts(data['patterns'])\n",
        "train = tokenizer.texts_to_sequences(data['patterns'])\n",
        "train"
      ],
      "metadata": {
        "colab": {
          "base_uri": "https://localhost:8080/"
        },
        "id": "VoqsJ-AFOHJJ",
        "outputId": "b8aa8c2a-0dc0-4bea-cc9d-56a1c2d7385c"
      },
      "execution_count": null,
      "outputs": [
        {
          "output_type": "execute_result",
          "data": {
            "text/plain": [
              "[[257],\n",
              " [258],\n",
              " [259],\n",
              " [260],\n",
              " [261],\n",
              " [262],\n",
              " [170],\n",
              " [171],\n",
              " [172],\n",
              " [263],\n",
              " [264],\n",
              " [173],\n",
              " [265],\n",
              " [266],\n",
              " [267],\n",
              " [268],\n",
              " [269],\n",
              " [174],\n",
              " [270],\n",
              " [175, 174],\n",
              " [99, 271],\n",
              " [272, 273],\n",
              " [274],\n",
              " [275, 176],\n",
              " [276],\n",
              " [277, 176],\n",
              " [177, 123],\n",
              " [278],\n",
              " [177, 123, 62],\n",
              " [2, 279, 35, 11, 3],\n",
              " [2, 7, 11, 3],\n",
              " [2, 7, 3, 52],\n",
              " [3, 52, 40],\n",
              " [11, 3, 40],\n",
              " [124, 3, 52],\n",
              " [280, 3, 52],\n",
              " [281, 25, 3, 52],\n",
              " [45, 5, 14, 63, 11, 3],\n",
              " [45, 5, 14, 63, 3, 52],\n",
              " [8, 1, 125, 11, 3],\n",
              " [8, 1, 125, 9, 3],\n",
              " [2, 53, 3, 52],\n",
              " [2, 5, 178, 36, 63, 11, 3],\n",
              " [2, 53, 11, 3],\n",
              " [282, 11, 3, 13, 283],\n",
              " [69, 53, 9, 3],\n",
              " [69, 5, 284, 285, 9, 3],\n",
              " [2, 69, 179, 53, 11, 3],\n",
              " [69, 179],\n",
              " [2, 69, 126, 53, 11, 3],\n",
              " [69, 126],\n",
              " [2, 41, 180, 63, 11, 3],\n",
              " [2, 37, 63, 11, 3],\n",
              " [37, 11, 3],\n",
              " [37, 11, 3, 70, 46, 181],\n",
              " [180, 11, 3],\n",
              " [37, 3, 52],\n",
              " [37, 11, 3, 70, 100],\n",
              " [37, 286, 11, 3],\n",
              " [37, 11, 3, 70, 54],\n",
              " [8, 287, 9, 27, 13, 101],\n",
              " [101, 64, 11, 3],\n",
              " [47, 288, 11, 3],\n",
              " [47, 101, 64, 11, 3],\n",
              " [31, 11, 3],\n",
              " [31, 9, 27],\n",
              " [87, 10, 11, 3],\n",
              " [87, 2, 5, 48, 10, 11, 3],\n",
              " [87, 11, 3],\n",
              " [87, 9, 27],\n",
              " [26, 10, 11, 3],\n",
              " [26, 9, 27],\n",
              " [2, 5, 18, 1, 28, 21, 1, 289, 36, 5, 290, 35, 37, 9, 3],\n",
              " [2, 5, 18, 102, 21, 35, 11, 3],\n",
              " [1, 35, 11, 3],\n",
              " [1, 9, 27],\n",
              " [49, 9, 27],\n",
              " [49, 35, 11, 3],\n",
              " [12, 1, 14, 32, 65, 6, 3, 10, 38, 1, 30, 54, 1],\n",
              " [71, 11, 3],\n",
              " [29, 71, 11, 3],\n",
              " [29, 1, 291, 71, 9, 27],\n",
              " [71, 9, 27],\n",
              " [31, 2, 5, 13, 1, 292],\n",
              " [26, 10, 182, 11, 3],\n",
              " [26, 5, 48, 10, 103, 3],\n",
              " [26, 103, 27],\n",
              " [26, 2, 5, 48, 10, 1, 30, 54, 1, 10, 9, 27],\n",
              " [21, 1, 183, 19, 2, 5, 14, 1, 22, 54, 1, 28],\n",
              " [21, 1, 63, 103, 27, 2, 5, 104, 1, 88],\n",
              " [21, 1, 63, 103, 3, 2, 5, 104, 1, 88],\n",
              " [12, 19, 10, 9, 27],\n",
              " [12, 19, 10, 9, 3],\n",
              " [293, 10, 19, 9, 27],\n",
              " [294, 10, 295, 9, 3],\n",
              " [296, 2, 41, 89, 19, 9, 3, 22, 9, 27],\n",
              " [2, 41, 72, 72, 6, 3],\n",
              " [12, 50, 6, 3],\n",
              " [2, 41, 72, 65, 6, 3],\n",
              " [50, 65, 6, 3],\n",
              " [12, 1, 13, 32, 65, 6, 3, 5, 297, 10, 54, 1, 30, 1, 184],\n",
              " [12, 1, 127, 29, 65, 6, 3, 298],\n",
              " [21, 1, 183, 299, 19, 2, 5, 104, 1, 88],\n",
              " [21, 1, 90, 9, 3, 2, 5, 18, 1, 28],\n",
              " [15, 23, 91, 1, 13, 39, 105],\n",
              " [2, 5, 18, 1, 28, 10, 6, 3, 1],\n",
              " [2, 5, 18, 1, 88, 185, 300, 31, 73],\n",
              " [2, 5, 18, 1, 28, 185, 1, 301, 26, 6, 3],\n",
              " [12, 1, 39, 31, 5, 48, 10, 1],\n",
              " [31, 73, 106, 2, 5, 48, 24, 6, 3, 1],\n",
              " [31, 73, 106, 2, 5, 48, 24, 9, 3, 1],\n",
              " [31, 73, 10, 3, 302],\n",
              " [31, 73, 10, 9, 3],\n",
              " [31, 73, 10, 6, 3, 70, 100, 181, 303],\n",
              " [21, 1, 74, 55, 51, 128, 56, 26, 8, 42, 304, 1, 101, 22, 14, 129, 305],\n",
              " [21, 6, 3, 1, 75, 130, 128, 56, 26, 8, 306, 17, 56, 26],\n",
              " [8, 1, 18, 186, 56, 26, 307, 6, 3, 1, 75, 130],\n",
              " [129, 56, 26],\n",
              " [6, 3, 75, 130],\n",
              " [1, 75, 74, 55, 51, 8, 1, 13, 129, 56, 26],\n",
              " [2, 41, 72, 19, 6, 3],\n",
              " [72, 87, 2, 5, 48, 24, 6, 3, 1],\n",
              " [72, 19, 6, 3],\n",
              " [2, 19, 6, 3, 5, 48, 24, 308, 1],\n",
              " [2, 41, 309, 65, 6, 3],\n",
              " [8, 76, 65, 6, 3],\n",
              " [15, 23, 1, 14, 107, 310, 311],\n",
              " [312, 1, 13, 39, 77, 6, 3],\n",
              " [8, 76, 131, 10, 6, 3],\n",
              " [8, 76, 131, 10, 187, 313, 6, 3, 314, 315],\n",
              " [188, 23, 1, 13, 107, 19, 132, 133],\n",
              " [8, 1, 13, 39, 19, 132, 133],\n",
              " [132, 133, 9, 3],\n",
              " [189, 1, 190],\n",
              " [189, 316],\n",
              " [6, 3, 1, 75, 190, 2, 5, 13, 102],\n",
              " [15, 23, 1, 14, 107, 78, 317, 318],\n",
              " [8, 6, 3, 1, 14, 319, 15, 320, 108],\n",
              " [78, 6, 3, 108],\n",
              " [78, 9, 3, 108],\n",
              " [15, 23, 1, 14, 321, 43, 55, 134, 25, 135, 191, 322, 109],\n",
              " [2, 7, 109],\n",
              " [2, 7, 191, 323, 109],\n",
              " [43, 89, 109],\n",
              " [2, 7, 6, 3],\n",
              " [43, 89, 6, 3],\n",
              " [192, 193, 194, 6, 3],\n",
              " [2, 5, 18, 1, 28, 21, 77, 17, 79],\n",
              " [136, 66, 18, 324, 10, 39, 77],\n",
              " [79, 36, 10, 39, 77],\n",
              " [67, 20, 325, 33, 6, 3],\n",
              " [326, 327, 36, 5, 125, 33, 6, 3],\n",
              " [33, 6, 3],\n",
              " [328, 329, 33, 6, 3],\n",
              " [8, 76, 26, 10, 33, 6, 3],\n",
              " [2, 41, 31, 5, 14, 79, 182, 6, 3],\n",
              " [17, 330, 26, 5, 14, 79, 6, 3],\n",
              " [31],\n",
              " [2, 5, 178, 33, 6, 3],\n",
              " [331, 30, 33, 68, 53, 332, 333, 126],\n",
              " [33, 6, 3],\n",
              " [33, 70, 334],\n",
              " [2, 5, 18, 1, 28, 21, 1, 110, 24, 6, 3, 1],\n",
              " [195, 2, 41, 5, 102, 21, 335, 7, 336],\n",
              " [12, 1, 57, 21, 1, 17, 137],\n",
              " [12, 47, 127, 337, 3, 1, 17, 137],\n",
              " [338, 9, 3],\n",
              " [2, 5, 18, 1, 28, 21, 1, 110, 25, 49, 30, 196],\n",
              " [12, 21, 1, 138, 46, 15, 339, 1, 17, 139, 1],\n",
              " [340, 74, 138, 70, 49, 30, 196],\n",
              " [12, 341, 36, 5, 342, 57, 1, 2, 5, 18, 102],\n",
              " [12, 1, 14, 139, 343, 64, 36],\n",
              " [12, 1, 13, 57, 8, 43, 6, 7, 51, 30, 197],\n",
              " [47, 39, 43, 6],\n",
              " [29, 1, 13, 39, 43, 6],\n",
              " [12, 1, 13, 194, 6, 198, 1],\n",
              " [12, 199, 186, 137],\n",
              " [12, 1, 13, 344, 111],\n",
              " [111, 200, 140],\n",
              " [140, 14, 345, 346, 138],\n",
              " [12, 47, 201, 111, 200, 140],\n",
              " [12, 1, 13, 32, 71, 80, 81, 30, 347],\n",
              " [29, 1, 32, 71, 30, 81],\n",
              " [12, 1, 13, 141, 80],\n",
              " [2, 7, 80],\n",
              " [29, 66, 14, 107, 348, 6, 3],\n",
              " [43, 89, 80],\n",
              " [12, 1, 13, 141, 81],\n",
              " [29, 1, 13, 141, 81],\n",
              " [15, 23, 1, 14, 32, 78, 6, 3, 54, 22, 100],\n",
              " [349, 10, 32, 78, 22, 350, 351],\n",
              " [352, 353, 14, 354, 355, 43, 22, 77],\n",
              " [15,\n",
              "  23,\n",
              "  66,\n",
              "  14,\n",
              "  19,\n",
              "  6,\n",
              "  3,\n",
              "  19,\n",
              "  6,\n",
              "  198,\n",
              "  78,\n",
              "  356,\n",
              "  22,\n",
              "  77,\n",
              "  5,\n",
              "  357,\n",
              "  358,\n",
              "  64,\n",
              "  359,\n",
              "  142],\n",
              " [15, 23, 1, 14, 32, 143, 202, 10, 58],\n",
              " [143, 10, 360, 38, 184, 361, 58],\n",
              " [8, 76, 195, 5, 104, 1, 88, 89, 144, 203],\n",
              " [144, 362, 106, 2, 5, 48, 10, 38, 1],\n",
              " [144, 203],\n",
              " [15, 23, 1, 14, 32, 143, 202, 10, 59],\n",
              " [2, 5, 18, 1, 28, 21, 1, 90, 59],\n",
              " [82, 204, 145, 68, 33, 188, 23, 1, 13, 363, 105],\n",
              " [8, 204, 145, 364],\n",
              " [33, 145],\n",
              " [15, 23, 1, 14, 32, 92, 112, 30, 365, 366],\n",
              " [29, 1, 39, 92, 112],\n",
              " [8, 76, 92, 112],\n",
              " [29, 1, 13, 39, 367, 368, 6, 3, 5, 112],\n",
              " [12, 1, 13, 369, 19, 6, 3],\n",
              " [12, 47, 146, 19, 6, 3, 1],\n",
              " [12, 370, 371, 10, 19, 1],\n",
              " [47, 146, 19, 6, 3],\n",
              " [47, 146, 19, 9, 3],\n",
              " [2, 7, 205],\n",
              " [205],\n",
              " [2, 7, 206],\n",
              " [206],\n",
              " [2, 50, 60, 80, 22, 81, 372],\n",
              " [8, 80, 93, 106, 81],\n",
              " [2, 50, 60, 207, 22, 92],\n",
              " [207, 22, 92, 8, 93],\n",
              " [2, 50, 60, 208, 22, 209],\n",
              " [2, 7, 208],\n",
              " [2, 7, 209],\n",
              " [2, 7, 210],\n",
              " [210],\n",
              " [1, 139, 147, 373, 1, 17, 374, 7, 113, 2, 5, 14, 1, 28],\n",
              " [1, 17, 74, 147, 7, 113],\n",
              " [1, 74, 147, 7, 17, 375, 24, 38, 1],\n",
              " [1, 110, 25, 54, 30, 100, 1, 15, 23, 1, 14, 32, 105],\n",
              " [1, 110, 24, 54, 1, 2, 5, 13, 1, 28],\n",
              " [29, 1, 13, 39, 105, 10, 46, 108, 1],\n",
              " [36, 5, 1, 211, 90, 212, 148, 15, 23, 1, 14, 32, 43, 55, 134],\n",
              " [2, 5, 18, 1, 28, 21, 90, 212, 148],\n",
              " [19, 376, 148],\n",
              " [36, 5, 1, 377, 378, 379, 380, 213, 12, 1, 13, 79],\n",
              " [381, 382, 25, 213],\n",
              " [2, 5, 14, 79, 1, 383, 33],\n",
              " [1, 35, 214, 10, 94, 38, 30, 36, 5, 1, 211, 215, 25, 94, 38, 2, 5, 18, 1, 28],\n",
              " [47, 201, 214, 94, 38],\n",
              " [384, 36, 199, 17, 216, 94, 38],\n",
              " [2, 7, 94, 38],\n",
              " [2, 50, 60, 6, 3, 22, 11, 3],\n",
              " [15, 23, 1, 14, 32, 43, 55, 134, 25, 58],\n",
              " [2, 7, 58],\n",
              " [2, 50, 60, 59, 22, 9, 59],\n",
              " [187, 385, 386, 387, 388],\n",
              " [2, 7, 59],\n",
              " [2, 50, 60, 59, 22, 389],\n",
              " [53, 60, 217, 22, 59],\n",
              " [2, 7, 59],\n",
              " [2, 7, 217],\n",
              " [2, 50, 60, 111, 22, 58],\n",
              " [390, 391, 193, 58],\n",
              " [136, 46, 90, 58],\n",
              " [74, 392],\n",
              " [2, 7, 9, 218],\n",
              " [2, 41, 37, 218],\n",
              " [37, 393, 22, 37, 58],\n",
              " [394],\n",
              " [2, 7, 9, 395, 396],\n",
              " [219, 220, 149],\n",
              " [124, 219, 220, 149],\n",
              " [2, 7, 9, 61, 221],\n",
              " [124, 61, 221],\n",
              " [2, 7, 9, 61, 222],\n",
              " [12, 36, 14, 127, 397, 46, 398, 35, 9, 61],\n",
              " [9, 61, 222, 30, 399],\n",
              " [2, 7, 9, 61, 400],\n",
              " [12, 401, 46, 5, 35, 223],\n",
              " [2, 7, 223],\n",
              " [2, 7, 9, 150, 402],\n",
              " [403, 404, 405, 149],\n",
              " [2, 7, 61, 406],\n",
              " [53, 9, 407, 408],\n",
              " [409, 192, 64, 410],\n",
              " [224, 40],\n",
              " [2, 7, 224],\n",
              " [2, 7, 225],\n",
              " [225, 40],\n",
              " [2, 7, 226],\n",
              " [226, 40],\n",
              " [2, 7, 227],\n",
              " [411, 227],\n",
              " [412],\n",
              " [413],\n",
              " [12, 1, 57, 21, 1, 56, 228, 62],\n",
              " [9, 5, 15, 414, 128, 56, 228, 62],\n",
              " [415, 416, 417],\n",
              " [2, 418, 419, 22, 420, 421, 422],\n",
              " [2, 7, 423],\n",
              " [424, 25, 20],\n",
              " [136, 20, 15, 114],\n",
              " [2, 61, 20],\n",
              " [425, 38, 20],\n",
              " [115, 25, 38, 20],\n",
              " [115, 25, 20],\n",
              " [2, 5, 20],\n",
              " [45, 4],\n",
              " [16, 44, 57, 55, 62, 25, 4],\n",
              " [116, 25, 426],\n",
              " [4, 7, 2],\n",
              " [4, 45],\n",
              " [42, 45],\n",
              " [95],\n",
              " [151, 427, 428],\n",
              " [151, 95],\n",
              " [151, 95],\n",
              " [16, 44, 57, 95],\n",
              " [229, 57, 95],\n",
              " [4, 117, 429],\n",
              " [4, 34, 430],\n",
              " [4, 431, 16],\n",
              " [4, 230],\n",
              " [4, 230],\n",
              " [4, 197],\n",
              " [16, 432],\n",
              " [4, 433],\n",
              " [4, 17, 434],\n",
              " [4, 5, 435],\n",
              " [436, 55, 96],\n",
              " [67, 4, 68, 55, 96],\n",
              " [4, 18, 437],\n",
              " [68, 96],\n",
              " [4, 231, 232, 233, 83, 42],\n",
              " [438, 4, 234],\n",
              " [4, 34, 51],\n",
              " [4, 51, 152],\n",
              " [82, 235, 236],\n",
              " [82, 4, 439],\n",
              " [82, 440, 235, 236],\n",
              " [82, 4, 441],\n",
              " [82, 4, 442],\n",
              " [443, 444, 4],\n",
              " [4, 34, 237],\n",
              " [4, 445, 237],\n",
              " [4, 117, 446],\n",
              " [45, 153],\n",
              " [10, 45, 4, 84],\n",
              " [447, 45, 153],\n",
              " [16, 18, 68, 153],\n",
              " [45, 448],\n",
              " [8, 4, 34, 154],\n",
              " [4, 449, 154, 83, 42],\n",
              " [4, 154, 83, 42],\n",
              " [67, 4, 155, 156],\n",
              " [16, 44, 4, 216, 238, 239],\n",
              " [240, 16],\n",
              " [16, 241, 4, 10, 155],\n",
              " [16, 241, 450],\n",
              " [67, 4, 155],\n",
              " [4, 13, 240, 1],\n",
              " [8, 4, 451, 242],\n",
              " [4, 40, 452],\n",
              " [4, 453, 242],\n",
              " [454, 96, 20],\n",
              " [20, 455],\n",
              " [20, 34, 96],\n",
              " [20, 35, 62, 456],\n",
              " [20, 57, 62],\n",
              " [20, 243],\n",
              " [20, 40, 457, 5, 243],\n",
              " [4, 46, 458],\n",
              " [4, 459],\n",
              " [16, 244],\n",
              " [4, 18, 157],\n",
              " [4, 157],\n",
              " [66, 17, 84, 93, 91],\n",
              " [156, 4, 157],\n",
              " [16, 158, 244],\n",
              " [4, 17, 84, 239, 91],\n",
              " [4, 117, 62, 245],\n",
              " [4, 5, 460, 159],\n",
              " [4, 159],\n",
              " [4, 34, 159],\n",
              " [4, 117, 245],\n",
              " [4, 34, 234],\n",
              " [4, 84, 24, 51],\n",
              " [4, 51],\n",
              " [4, 135, 461, 462],\n",
              " [4, 232, 233],\n",
              " [4, 463, 464],\n",
              " [8, 4, 246, 83, 42],\n",
              " [4, 34, 246],\n",
              " [2, 4, 97, 118],\n",
              " [2, 160],\n",
              " [12, 24, 160],\n",
              " [2, 4, 465, 466],\n",
              " [115, 25, 160],\n",
              " [2, 5, 4, 28, 10, 467],\n",
              " [4, 158, 161],\n",
              " [8, 4, 161],\n",
              " [8, 4, 44, 150],\n",
              " [8, 4, 44, 150, 238],\n",
              " [4, 231, 34, 161],\n",
              " [162, 468, 98, 118],\n",
              " [16, 469, 98, 118],\n",
              " [247, 118],\n",
              " [16, 44, 98, 119],\n",
              " [470, 98],\n",
              " [66, 18, 98],\n",
              " [247, 24, 1],\n",
              " [8, 4, 163],\n",
              " [4, 40, 471, 163],\n",
              " [16, 44, 35, 49, 472],\n",
              " [66, 40, 49],\n",
              " [16, 44, 68, 473],\n",
              " [162, 4, 68, 163],\n",
              " [8, 66, 474],\n",
              " [29, 4, 84],\n",
              " [248, 142, 20],\n",
              " [29, 248, 142, 20],\n",
              " [29, 4, 84],\n",
              " [29, 475],\n",
              " [476, 4, 64, 23],\n",
              " [64, 23, 20, 477],\n",
              " [8, 4, 120],\n",
              " [8, 4, 75, 120],\n",
              " [8, 4, 120, 156],\n",
              " [4, 120, 83, 42],\n",
              " [8, 4, 85],\n",
              " [8, 4, 46, 5, 85],\n",
              " [4, 17, 85],\n",
              " [1, 478, 4, 85],\n",
              " [4, 34, 85],\n",
              " [4, 40, 46, 5, 85],\n",
              " [20, 17, 479],\n",
              " [15, 23, 480],\n",
              " [115, 25, 249],\n",
              " [131, 481],\n",
              " [2, 249],\n",
              " [4, 7, 34, 113],\n",
              " [4, 482, 5, 483],\n",
              " [484, 485],\n",
              " [8, 4, 250, 24, 42],\n",
              " [8, 4, 250],\n",
              " [2, 486],\n",
              " [2, 7, 113],\n",
              " [116, 24, 1],\n",
              " [162, 4, 116, 24, 1],\n",
              " [164, 24, 1],\n",
              " [13, 164, 24, 1],\n",
              " [67, 4, 116, 24, 1],\n",
              " [8, 4, 15, 165],\n",
              " [8, 4, 121, 15, 165],\n",
              " [4, 121, 15, 165],\n",
              " [8, 4, 15, 114],\n",
              " [8, 4, 121, 15, 114],\n",
              " [4, 121, 15, 114],\n",
              " [8, 4, 35, 166],\n",
              " [2, 166, 487],\n",
              " [4, 488, 166, 23],\n",
              " [167],\n",
              " [167, 489],\n",
              " [490, 167],\n",
              " [67, 4, 491],\n",
              " [492, 16],\n",
              " [8, 4, 44, 251],\n",
              " [16, 44, 251],\n",
              " [4, 493],\n",
              " [494, 16, 495],\n",
              " [17, 122],\n",
              " [1, 17, 122, 93, 152],\n",
              " [17, 122, 93, 152],\n",
              " [1, 496, 17, 122, 25, 42],\n",
              " [1, 497, 498],\n",
              " [34, 499],\n",
              " [500, 1],\n",
              " [12, 501],\n",
              " [2, 502],\n",
              " [2, 4, 51, 51, 41],\n",
              " [12, 503],\n",
              " [97, 504, 119],\n",
              " [97, 505],\n",
              " [97, 13, 215, 119],\n",
              " [97, 164, 119],\n",
              " [252],\n",
              " [252, 506, 507],\n",
              " [4, 91, 2],\n",
              " [4, 508, 2],\n",
              " [99, 170],\n",
              " [175, 171],\n",
              " [99, 172],\n",
              " [99, 173],\n",
              " [2, 7, 49],\n",
              " [49, 7, 2],\n",
              " [2, 253, 49],\n",
              " [2, 7, 254],\n",
              " [254, 7, 2],\n",
              " [2, 7, 168],\n",
              " [168, 7, 2],\n",
              " [2, 253, 168],\n",
              " [16, 509, 510],\n",
              " [16, 255],\n",
              " [16, 17, 511, 91],\n",
              " [16, 17, 158, 255],\n",
              " [169],\n",
              " [169, 83, 42],\n",
              " [169, 512, 513, 514],\n",
              " [86],\n",
              " [229, 1, 86],\n",
              " [67, 4, 135, 86],\n",
              " [86, 256],\n",
              " [123, 86, 256],\n",
              " [515, 86]]"
            ]
          },
          "metadata": {},
          "execution_count": 55
        }
      ]
    },
    {
      "cell_type": "markdown",
      "source": [
        "### **Menginisialisasi Data Training**"
      ],
      "metadata": {
        "id": "BdSY4b8KOjuP"
      }
    },
    {
      "cell_type": "code",
      "source": [
        "# initializing training data\n",
        "training = []\n",
        "output_empty = [0] * len(classes)\n",
        "for doc in documents:\n",
        "\n",
        "    bag = []\n",
        "\n",
        "    pattern_words = doc[0]\n",
        "    pattern_words = [lemmatizer.lemmatize(word.lower()) for word in pattern_words]\n",
        "\n",
        "    for w in words:\n",
        "        bag.append(1) if w in pattern_words else bag.append(0)\n",
        "\n",
        "\n",
        "    output_row = list(output_empty)\n",
        "    output_row[classes.index(doc[1])] = 1\n",
        "\n",
        "    training.append([bag, output_row])\n",
        "\n",
        "random.shuffle(training)\n",
        "training = np.array(training)\n"
      ],
      "metadata": {
        "colab": {
          "base_uri": "https://localhost:8080/"
        },
        "id": "pZO9yOYdrQxw",
        "outputId": "88daa156-b3f4-4cfe-d14a-081929dad4c4"
      },
      "execution_count": null,
      "outputs": [
        {
          "output_type": "stream",
          "name": "stderr",
          "text": [
            "<ipython-input-56-c9c2787d20bd>:21: VisibleDeprecationWarning: Creating an ndarray from ragged nested sequences (which is a list-or-tuple of lists-or-tuples-or ndarrays with different lengths or shapes) is deprecated. If you meant to do this, you must specify 'dtype=object' when creating the ndarray.\n",
            "  training = np.array(training)\n"
          ]
        }
      ]
    },
    {
      "cell_type": "code",
      "source": [
        "# membuat train dan test lists. X - patterns, Y - intents\n",
        "train_x = list(training[:,0])\n",
        "train_y = list(training[:,1])\n",
        "print(\"Training data created\")"
      ],
      "metadata": {
        "colab": {
          "base_uri": "https://localhost:8080/"
        },
        "id": "QJqQ5rDErWgb",
        "outputId": "0ee78fa8-1adc-4fbe-b267-a057a5a5b8bc"
      },
      "execution_count": null,
      "outputs": [
        {
          "output_type": "stream",
          "name": "stdout",
          "text": [
            "Training data created\n"
          ]
        }
      ]
    },
    {
      "cell_type": "markdown",
      "metadata": {
        "id": "MV7BSIT2SeJv"
      },
      "source": [
        "## **Apply Padding**"
      ]
    },
    {
      "cell_type": "code",
      "source": [
        "# Apply padding \n",
        "train_x = pad_sequences(train)\n",
        "\n",
        "print(train_x) # Padding Sequences"
      ],
      "metadata": {
        "colab": {
          "base_uri": "https://localhost:8080/"
        },
        "id": "m8ctC4OD91hN",
        "outputId": "98c7d1ec-5b82-46e5-aa2d-4c7068df7814"
      },
      "execution_count": null,
      "outputs": [
        {
          "output_type": "stream",
          "name": "stdout",
          "text": [
            "[[  0   0   0 ...   0   0 257]\n",
            " [  0   0   0 ...   0   0 258]\n",
            " [  0   0   0 ...   0   0 259]\n",
            " ...\n",
            " [  0   0   0 ...   0  86 256]\n",
            " [  0   0   0 ... 123  86 256]\n",
            " [  0   0   0 ...   0 515  86]]\n"
          ]
        }
      ]
    },
    {
      "cell_type": "markdown",
      "source": [
        "Hasil setelah padding adalah setiap sequence memiliki panjang yang sama. Padding dapat melakukan ini dengan menambahkan 0 secara default pada awal sequence yang lebih pendek."
      ],
      "metadata": {
        "id": "1Khg-ygkb0nD"
      }
    },
    {
      "cell_type": "markdown",
      "source": [
        "## **Encoding Text**\n",
        "\n",
        "Setelah tahapan proses Padding pada suatu teks maka proses terakhir dalam pemrosesan teks adalah tahapan Encoding. **Apa itu Encoding?**\n",
        "\n",
        "Encoding merupakan suatu konversi atau pengkodean yang dimana data kategorik seperti huruf atau data teks menjadi data numerik atau angka menyesuaikan dengan data label yang digunakan. Pada proses tahapan ini, encoding mengubah data teks pada kolom data tags menjadi data numerik dengan bahasa biner komputer yaitu 0 dan 1. \n",
        "\n",
        "Tujuan dari encoding ini adalah mempermudah saat proses komputasi data teks dan modelling."
      ],
      "metadata": {
        "id": "qY0vxxwBPeJC"
      }
    },
    {
      "cell_type": "code",
      "source": [
        "# Encoding the outputs \n",
        "le = LabelEncoder()\n",
        "train_y = le.fit_transform(data['tags'])\n",
        "print(train_y) #Label Encodings"
      ],
      "metadata": {
        "colab": {
          "base_uri": "https://localhost:8080/"
        },
        "id": "9wZokgmE-IEi",
        "outputId": "061a4bdc-2f41-4bbd-f747-a925d6ccdbf3"
      },
      "execution_count": null,
      "outputs": [
        {
          "output_type": "stream",
          "name": "stdout",
          "text": [
            "[ 50  50  50  50  50  50  50  50  50  50  50  50  50  50  50  49  49  49\n",
            "  49  49  49  49  49  49 130 130 130 130 130 101 101 101 101 101 101 101\n",
            " 101  98  98  98  98 104 104 104 104   4   4   3   3   5   5  44  44  44\n",
            "  44  45  45  45  43  43  78  78  29  29  99  99 129 129 129 129  88  88\n",
            " 135 135 135 135 135 135 105 105 105 105 105 100 100 100 100 100 106 106\n",
            " 106 106 106 106 106 106  62  62  62  62  76  76  96  96  15  15  97  97\n",
            "  97  97  97  97  97  97 120 120 120 120 120 120  61  61  61  61  62  62\n",
            " 128 128 128 128 115 115 115  71  71  71  74  74  74  74 110 110 110 110\n",
            "  69  69  69  38  38  38  95  95  95  95  89  89  89  89 103 103 103 103\n",
            "  65  65 132 132 132   6   6   6  13  13  59  59  59  77  77  67  67  67\n",
            "  67  37  37 108 108 108 108 111 111  73  73  73  73 123 123 123 123 123\n",
            " 124 124 136 136 136  72  72  72  72  94  94  94  94  94  20  20 122 122\n",
            " 109 109 113 113  30  30  30  12  12  36  36  36  70  70  70  31  31  31\n",
            "  46  46  46  26  26  26  26 102  35  35  63  63  63  64  64  64  64  68\n",
            "  68  68  68  42  42  42  25  25  25  25  66  66   0   0   0  90  90  90\n",
            "  41  41   7   7   7 112 112  51  51   2   2 107 107  81  81  10  10  10\n",
            "   1   1   8   8   8   8   8   8   8   8   8   8   8   8   8   9   9   9\n",
            "   9   9   9  11  11  11  11  11  14  14  14  14  14  17  17  17  17  16\n",
            "  16  16  16  19  19  19  19  19  21  21  21  21  23  23  23  23  23  27\n",
            "  27  27  28  28  28  28  28  28  28  32  32  32  33  33  33  33  33  33\n",
            "  33  34  34  39  39  39  39  39  39  39  40  40  40  40  40  48  48  48\n",
            "  48  48  52  52  52  52  53  53  53  53  53  57  57  57  57  57  75  75\n",
            "  75  75  75  75  75  80  80  80  80  80  80  80  91  91  91  91  91  92\n",
            "  92 116 116 116 116 117 117 117 117 117 117 117 119 119 119 119 121 121\n",
            " 121 126 126 126 126 127 127 127 127 127 131 131 131 131 131 131 118 118\n",
            " 118  54  54  54  54  56  56  56  56  56  58  58  58  58 125 125 125  55\n",
            "  55  55  55  83  84  85  85  60  60 133 133  79  79  87  86 134 134 134\n",
            "  24  24  18  18  18  22  47  47  82 114 114 114  93  93  93  93  93  93]\n"
          ]
        }
      ]
    },
    {
      "cell_type": "markdown",
      "metadata": {
        "id": "WAb5gFqGS3w4"
      },
      "source": [
        "Tokenizer pada Tensorflow memberikan token unik untuk setiap kata yang berbeda. Dan juga padding dilakukan untuk mendapatkan semua data dengan panjang yang sama sehingga dapat mengirimkannya ke lapisan atau layer LSTM. variabel target juga dikodekan menjadi nilai desimal."
      ]
    },
    {
      "cell_type": "markdown",
      "metadata": {
        "id": "ISIboeabS7pQ"
      },
      "source": [
        "# **Input Length, Output Length and Vocabulary**"
      ]
    },
    {
      "cell_type": "code",
      "execution_count": null,
      "metadata": {
        "id": "ykS6MN61e6IV",
        "colab": {
          "base_uri": "https://localhost:8080/"
        },
        "outputId": "e59cfdc0-27d6-4955-bcdb-133501612e59"
      },
      "outputs": [
        {
          "output_type": "stream",
          "name": "stdout",
          "text": [
            "input length:  20\n"
          ]
        }
      ],
      "source": [
        "# input length\n",
        "input_shape = train_x.shape[1]\n",
        "print(\"input length: \", input_shape)"
      ]
    },
    {
      "cell_type": "code",
      "source": [
        "# define vocabulary\n",
        "vocabulary = len(tokenizer.word_index)\n",
        "print(\"number of unique words : \", vocabulary)"
      ],
      "metadata": {
        "colab": {
          "base_uri": "https://localhost:8080/"
        },
        "id": "ESatydDDP8P4",
        "outputId": "4913c837-1449-4206-ae95-06b551dce12c"
      },
      "execution_count": null,
      "outputs": [
        {
          "output_type": "stream",
          "name": "stdout",
          "text": [
            "number of unique words :  515\n"
          ]
        }
      ]
    },
    {
      "cell_type": "code",
      "source": [
        "# output length\n",
        "output_length = le.classes_.shape[0]\n",
        "print(\"output length: \", output_length)"
      ],
      "metadata": {
        "colab": {
          "base_uri": "https://localhost:8080/"
        },
        "id": "mOL2PeBlP_GD",
        "outputId": "a7ea6e44-c8ed-42ff-99de-6fca9073564b"
      },
      "execution_count": null,
      "outputs": [
        {
          "output_type": "stream",
          "name": "stdout",
          "text": [
            "output length:  137\n"
          ]
        }
      ]
    },
    {
      "cell_type": "markdown",
      "metadata": {
        "id": "1oBujavTThKl"
      },
      "source": [
        "**Input length** dan **output length** terlihat sangat jelas hasilnya. Mereka adalah untuk bentuk input dan bentuk output dari jaringan syaraf pada algoritma Neural Network.\n",
        "\n",
        "**Vocabulary Size** adalah untuk lapisan penyematan untuk membuat representasi vektor unik untuk setiap kata."
      ]
    },
    {
      "cell_type": "markdown",
      "metadata": {
        "id": "iSFd0hW6QWam"
      },
      "source": [
        "**Input length** dan **output length** terlihat sangat jelas hasilnya. Mereka adalah untuk bentuk input dan bentuk output dari jaringan syaraf pada algoritma Neural Network.\n",
        "\n",
        "**Vocabulary Size** adalah untuk lapisan penyematan untuk membuat representasi vektor unik untuk setiap kata."
      ]
    },
    {
      "cell_type": "markdown",
      "source": [
        "## **Save Model Words & Classes**\n",
        "\n",
        "Setelah dilakukan pemrosesan teks yang dilakukan lima tahap maka kita bisa simpan model pemrosesan teks tersebut dengan menggunakan format pickle. \n",
        "\n",
        "Hal ini biasanya digunakan untuk membuat hubungan model yang telah dilatih dengan model pemrosesan teks. "
      ],
      "metadata": {
        "id": "1LxIElYjQbB7"
      }
    },
    {
      "cell_type": "code",
      "execution_count": null,
      "metadata": {
        "id": "hY_ElDfBUP8P"
      },
      "outputs": [],
      "source": [
        "pickle.dump(words, open('/content/words.pkl','wb'))\n",
        "pickle.dump(classes, open('/content/classes.pkl','wb'))"
      ]
    },
    {
      "cell_type": "markdown",
      "source": [
        "## **Save Label Encoder & Tokenizer**"
      ],
      "metadata": {
        "id": "dY9COWCwexgZ"
      }
    },
    {
      "cell_type": "code",
      "source": [
        "pickle.dump(le, open('/content/le.pkl','wb'))\n",
        "pickle.dump(tokenizer, open('/content/tokenizers.pkl','wb'))"
      ],
      "metadata": {
        "id": "saM3QTSjewR4"
      },
      "execution_count": null,
      "outputs": []
    },
    {
      "cell_type": "markdown",
      "source": [
        "## **MODEL**\n",
        "\n",
        "**Menentukan Model Encoder-Decoder**\n",
        "\n",
        "*   Model akan memiliki layer **Embedding**, **LSTM** dan **Dense**. Konfigurasi dasarnya adalah sebagai berikut:\n",
        "\n",
        "\n",
        "1.   2 Input Layers  : Satu untuk *encoder_input_data* dan satu lagi untuk *decoder_input_data*.\n",
        "2.   Embedding layer : Untuk mengonversi *token vectors* untuk memperbaiki sized dense vectors.\n",
        "3. LSTM layer        : Memberikan akses ke Long-Short Term cells.\n",
        "\n"
      ],
      "metadata": {
        "id": "z_2QpEt6Qur2"
      }
    },
    {
      "cell_type": "code",
      "source": [
        "# Creating the model (Membuat Modeling)\n",
        "i = Input(shape=(input_shape,)) # decoder_inputs\n",
        "x = Embedding(vocabulary+1,200, mask_zero=True)(i) # Layer Embedding\n",
        "x = LSTM(200, return_sequences=True)(x) # Layer Long Short Term Memory\n",
        "x = Flatten()(x) # Layer Flatten\n",
        "x = Dense(output_length, activation=\"softmax\")(x) # Layer Dense\n",
        "model  = Model(i,x)"
      ],
      "metadata": {
        "id": "Z-UVcZgGmYRy"
      },
      "execution_count": null,
      "outputs": []
    },
    {
      "cell_type": "code",
      "source": [
        "# Compile the model with Adam from keras Optimizer and sparse_categorical_crossentropy\n",
        "model.compile(loss=\"sparse_categorical_crossentropy\", optimizer='adam', metrics=['accuracy'])"
      ],
      "metadata": {
        "id": "bLYdELbjot2o"
      },
      "execution_count": null,
      "outputs": []
    },
    {
      "cell_type": "markdown",
      "source": [
        "\n",
        "**Long-Short Term Memory ( LSTM )**\n",
        "\n",
        "*   Jaringan *Long Short-Term Memory* (LSTM) adalah tipe dari *Recurrent Neural Network* (RNN) yang mampu mempelajari dependency dalam sequence prediction problems.\n",
        "*   Behavior ini diperlukan dalam domain masalah kompleks seperti, machine translation, speech recognition, dll.\n",
        "* ![ill.PNG](data:image/png;base64,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)\n",
        "\n",
        "* Jaringan LSTM terdiri dari berbagai memory blocks yang disebut cells (persegi panjang pada gambar).\n",
        "* ada dua keadaan yang ditransfer ke cell berikutnya; cell state dan hidden state.\n",
        "*  Memory blocks bertanggung jawab untuk mengingat dan memanipulasi yang dilakukan dengan tiga mekanisme utama yang disebut Gates.\n",
        "* Penjelasan lebih lanjut mengenai LSTM [Colah's Blog](https://colah.github.io/posts/2015-08-Understanding-LSTMs/)"
      ],
      "metadata": {
        "id": "vN4ZiptleMaE"
      }
    },
    {
      "cell_type": "code",
      "source": [
        "model.summary() # Menampilkan Parameter Model"
      ],
      "metadata": {
        "colab": {
          "base_uri": "https://localhost:8080/"
        },
        "id": "CcOVs42S0lJP",
        "outputId": "1d917d01-8088-4282-b9e2-db3a9bd7ea34"
      },
      "execution_count": null,
      "outputs": [
        {
          "output_type": "stream",
          "name": "stdout",
          "text": [
            "Model: \"model_1\"\n",
            "_________________________________________________________________\n",
            " Layer (type)                Output Shape              Param #   \n",
            "=================================================================\n",
            " input_2 (InputLayer)        [(None, 20)]              0         \n",
            "                                                                 \n",
            " embedding_1 (Embedding)     (None, 20, 200)           103200    \n",
            "                                                                 \n",
            " lstm_1 (LSTM)               (None, 20, 200)           320800    \n",
            "                                                                 \n",
            " flatten_1 (Flatten)         (None, 4000)              0         \n",
            "                                                                 \n",
            " dense_1 (Dense)             (None, 137)               548137    \n",
            "                                                                 \n",
            "=================================================================\n",
            "Total params: 972,137\n",
            "Trainable params: 972,137\n",
            "Non-trainable params: 0\n",
            "_________________________________________________________________\n"
          ]
        }
      ]
    },
    {
      "cell_type": "markdown",
      "source": [
        "**Training the Model**\n",
        "\n",
        "Kami melatih model untuk 200 epochs dengan Adam optimizer dan sparse_categorical_crossentropy loss function dengan mengukur tingkat akurasi menggunakan accuracy metrics.\n",
        "\n"
      ],
      "metadata": {
        "id": "cYbkb6Bkw4jU"
      }
    },
    {
      "cell_type": "code",
      "source": [
        "# Training the model (Latih Model Data)\n",
        "train = model.fit(np.array(train_x), np.array(train_y), epochs=200, batch_size=5, verbose=1)"
      ],
      "metadata": {
        "id": "nzxQ_HbL03mS",
        "colab": {
          "base_uri": "https://localhost:8080/"
        },
        "outputId": "73fcd34d-8f43-49fe-ad23-bbee69253721"
      },
      "execution_count": 68,
      "outputs": [
        {
          "output_type": "stream",
          "name": "stdout",
          "text": [
            "Epoch 1/200\n",
            "101/101 [==============================] - 9s 52ms/step - loss: 4.8784 - accuracy: 0.0417\n",
            "Epoch 2/200\n",
            "101/101 [==============================] - 10s 98ms/step - loss: 4.3137 - accuracy: 0.0893\n",
            "Epoch 3/200\n",
            "101/101 [==============================] - 6s 56ms/step - loss: 3.3984 - accuracy: 0.2004\n",
            "Epoch 4/200\n",
            "101/101 [==============================] - 6s 64ms/step - loss: 2.3801 - accuracy: 0.4325\n",
            "Epoch 5/200\n",
            "101/101 [==============================] - 7s 66ms/step - loss: 1.6365 - accuracy: 0.5992\n",
            "Epoch 6/200\n",
            "101/101 [==============================] - 5s 51ms/step - loss: 1.0710 - accuracy: 0.7440\n",
            "Epoch 7/200\n",
            "101/101 [==============================] - 5s 50ms/step - loss: 0.7250 - accuracy: 0.8333\n",
            "Epoch 8/200\n",
            "101/101 [==============================] - 5s 50ms/step - loss: 0.4864 - accuracy: 0.9008\n",
            "Epoch 9/200\n",
            "101/101 [==============================] - 5s 51ms/step - loss: 0.3510 - accuracy: 0.9266\n",
            "Epoch 10/200\n",
            "101/101 [==============================] - 5s 51ms/step - loss: 0.2324 - accuracy: 0.9544\n",
            "Epoch 11/200\n",
            "101/101 [==============================] - 5s 50ms/step - loss: 0.1619 - accuracy: 0.9623\n",
            "Epoch 12/200\n",
            "101/101 [==============================] - 5s 50ms/step - loss: 0.1244 - accuracy: 0.9782\n",
            "Epoch 13/200\n",
            "101/101 [==============================] - 6s 55ms/step - loss: 0.0953 - accuracy: 0.9762\n",
            "Epoch 14/200\n",
            "101/101 [==============================] - 5s 50ms/step - loss: 0.0761 - accuracy: 0.9821\n",
            "Epoch 15/200\n",
            "101/101 [==============================] - 5s 50ms/step - loss: 0.0546 - accuracy: 0.9861\n",
            "Epoch 16/200\n",
            "101/101 [==============================] - 5s 50ms/step - loss: 0.0388 - accuracy: 0.9901\n",
            "Epoch 17/200\n",
            "101/101 [==============================] - 5s 50ms/step - loss: 0.0458 - accuracy: 0.9881\n",
            "Epoch 18/200\n",
            "101/101 [==============================] - 5s 51ms/step - loss: 0.0294 - accuracy: 0.9921\n",
            "Epoch 19/200\n",
            "101/101 [==============================] - 5s 50ms/step - loss: 0.0341 - accuracy: 0.9881\n",
            "Epoch 20/200\n",
            "101/101 [==============================] - 5s 51ms/step - loss: 0.0243 - accuracy: 0.9940\n",
            "Epoch 21/200\n",
            "101/101 [==============================] - 5s 52ms/step - loss: 0.0225 - accuracy: 0.9940\n",
            "Epoch 22/200\n",
            "101/101 [==============================] - 5s 51ms/step - loss: 0.0185 - accuracy: 0.9940\n",
            "Epoch 23/200\n",
            "101/101 [==============================] - 5s 50ms/step - loss: 0.0179 - accuracy: 0.9940\n",
            "Epoch 24/200\n",
            "101/101 [==============================] - 5s 50ms/step - loss: 0.0168 - accuracy: 0.9960\n",
            "Epoch 25/200\n",
            "101/101 [==============================] - 5s 51ms/step - loss: 0.0145 - accuracy: 0.9960\n",
            "Epoch 26/200\n",
            "101/101 [==============================] - 5s 50ms/step - loss: 0.0167 - accuracy: 0.9940\n",
            "Epoch 27/200\n",
            "101/101 [==============================] - 5s 51ms/step - loss: 0.0154 - accuracy: 0.9960\n",
            "Epoch 28/200\n",
            "101/101 [==============================] - 9s 87ms/step - loss: 0.0142 - accuracy: 0.9960\n",
            "Epoch 29/200\n",
            "101/101 [==============================] - 10s 102ms/step - loss: 0.0138 - accuracy: 0.9940\n",
            "Epoch 30/200\n",
            "101/101 [==============================] - 6s 62ms/step - loss: 0.0117 - accuracy: 0.9960\n",
            "Epoch 31/200\n",
            "101/101 [==============================] - 5s 51ms/step - loss: 0.0133 - accuracy: 0.9940\n",
            "Epoch 32/200\n",
            "101/101 [==============================] - 5s 52ms/step - loss: 0.0131 - accuracy: 0.9960\n",
            "Epoch 33/200\n",
            "101/101 [==============================] - 5s 52ms/step - loss: 0.0136 - accuracy: 0.9940\n",
            "Epoch 34/200\n",
            "101/101 [==============================] - 5s 52ms/step - loss: 0.0138 - accuracy: 0.9940\n",
            "Epoch 35/200\n",
            "101/101 [==============================] - 5s 53ms/step - loss: 0.0118 - accuracy: 0.9960\n",
            "Epoch 36/200\n",
            "101/101 [==============================] - 5s 51ms/step - loss: 0.0114 - accuracy: 0.9960\n",
            "Epoch 37/200\n",
            "101/101 [==============================] - 5s 50ms/step - loss: 0.0133 - accuracy: 0.9921\n",
            "Epoch 38/200\n",
            "101/101 [==============================] - 5s 49ms/step - loss: 0.0115 - accuracy: 0.9940\n",
            "Epoch 39/200\n",
            "101/101 [==============================] - 5s 50ms/step - loss: 0.0123 - accuracy: 0.9921\n",
            "Epoch 40/200\n",
            "101/101 [==============================] - 5s 50ms/step - loss: 0.0115 - accuracy: 0.9940\n",
            "Epoch 41/200\n",
            "101/101 [==============================] - 5s 51ms/step - loss: 0.0127 - accuracy: 0.9940\n",
            "Epoch 42/200\n",
            "101/101 [==============================] - 5s 51ms/step - loss: 0.0115 - accuracy: 0.9921\n",
            "Epoch 43/200\n",
            "101/101 [==============================] - 5s 52ms/step - loss: 0.0106 - accuracy: 0.9960\n",
            "Epoch 44/200\n",
            "101/101 [==============================] - 5s 51ms/step - loss: 0.0102 - accuracy: 0.9960\n",
            "Epoch 45/200\n",
            "101/101 [==============================] - 5s 51ms/step - loss: 0.0119 - accuracy: 0.9921\n",
            "Epoch 46/200\n",
            "101/101 [==============================] - 5s 54ms/step - loss: 0.0097 - accuracy: 0.9960\n",
            "Epoch 47/200\n",
            "101/101 [==============================] - 7s 66ms/step - loss: 0.0101 - accuracy: 0.9940\n",
            "Epoch 48/200\n",
            "101/101 [==============================] - 5s 51ms/step - loss: 0.0092 - accuracy: 0.9960\n",
            "Epoch 49/200\n",
            "101/101 [==============================] - 5s 50ms/step - loss: 0.0085 - accuracy: 0.9940\n",
            "Epoch 50/200\n",
            "101/101 [==============================] - 5s 51ms/step - loss: 0.0107 - accuracy: 0.9921\n",
            "Epoch 51/200\n",
            "101/101 [==============================] - 5s 52ms/step - loss: 0.0112 - accuracy: 0.9940\n",
            "Epoch 52/200\n",
            "101/101 [==============================] - 5s 51ms/step - loss: 0.0090 - accuracy: 0.9940\n",
            "Epoch 53/200\n",
            "101/101 [==============================] - 5s 52ms/step - loss: 0.0096 - accuracy: 0.9940\n",
            "Epoch 54/200\n",
            "101/101 [==============================] - 5s 52ms/step - loss: 0.0086 - accuracy: 0.9940\n",
            "Epoch 55/200\n",
            "101/101 [==============================] - 5s 50ms/step - loss: 0.0091 - accuracy: 0.9940\n",
            "Epoch 56/200\n",
            "101/101 [==============================] - 5s 50ms/step - loss: 0.0095 - accuracy: 0.9960\n",
            "Epoch 57/200\n",
            "101/101 [==============================] - 5s 50ms/step - loss: 0.0079 - accuracy: 0.9940\n",
            "Epoch 58/200\n",
            "101/101 [==============================] - 5s 50ms/step - loss: 0.0099 - accuracy: 0.9940\n",
            "Epoch 59/200\n",
            "101/101 [==============================] - 5s 50ms/step - loss: 0.0093 - accuracy: 0.9960\n",
            "Epoch 60/200\n",
            "101/101 [==============================] - 5s 51ms/step - loss: 0.0099 - accuracy: 0.9940\n",
            "Epoch 61/200\n",
            "101/101 [==============================] - 5s 51ms/step - loss: 0.0100 - accuracy: 0.9940\n",
            "Epoch 62/200\n",
            "101/101 [==============================] - 5s 50ms/step - loss: 0.0096 - accuracy: 0.9940\n",
            "Epoch 63/200\n",
            "101/101 [==============================] - 5s 51ms/step - loss: 0.0087 - accuracy: 0.9960\n",
            "Epoch 64/200\n",
            "101/101 [==============================] - 5s 50ms/step - loss: 0.0088 - accuracy: 0.9921\n",
            "Epoch 65/200\n",
            "101/101 [==============================] - 5s 51ms/step - loss: 0.0086 - accuracy: 0.9921\n",
            "Epoch 66/200\n",
            "101/101 [==============================] - 5s 52ms/step - loss: 0.0093 - accuracy: 0.9940\n",
            "Epoch 67/200\n",
            "101/101 [==============================] - 5s 51ms/step - loss: 0.0086 - accuracy: 0.9940\n",
            "Epoch 68/200\n",
            "101/101 [==============================] - 5s 51ms/step - loss: 0.0092 - accuracy: 0.9940\n",
            "Epoch 69/200\n",
            "101/101 [==============================] - 5s 50ms/step - loss: 0.0088 - accuracy: 0.9960\n",
            "Epoch 70/200\n",
            "101/101 [==============================] - 5s 51ms/step - loss: 0.0090 - accuracy: 0.9960\n",
            "Epoch 71/200\n",
            "101/101 [==============================] - 5s 50ms/step - loss: 0.0078 - accuracy: 0.9921\n",
            "Epoch 72/200\n",
            "101/101 [==============================] - 5s 51ms/step - loss: 0.0092 - accuracy: 0.9940\n",
            "Epoch 73/200\n",
            "101/101 [==============================] - 5s 49ms/step - loss: 0.0085 - accuracy: 0.9921\n",
            "Epoch 74/200\n",
            "101/101 [==============================] - 5s 50ms/step - loss: 0.0081 - accuracy: 0.9960\n",
            "Epoch 75/200\n",
            "101/101 [==============================] - 5s 50ms/step - loss: 0.0076 - accuracy: 0.9921\n",
            "Epoch 76/200\n",
            "101/101 [==============================] - 5s 50ms/step - loss: 0.0074 - accuracy: 0.9921\n",
            "Epoch 77/200\n",
            "101/101 [==============================] - 5s 51ms/step - loss: 0.0085 - accuracy: 0.9940\n",
            "Epoch 78/200\n",
            "101/101 [==============================] - 5s 50ms/step - loss: 0.0081 - accuracy: 0.9940\n",
            "Epoch 79/200\n",
            "101/101 [==============================] - 5s 51ms/step - loss: 0.0082 - accuracy: 0.9921\n",
            "Epoch 80/200\n",
            "101/101 [==============================] - 5s 50ms/step - loss: 0.0087 - accuracy: 0.9940\n",
            "Epoch 81/200\n",
            "101/101 [==============================] - 5s 53ms/step - loss: 0.0084 - accuracy: 0.9940\n",
            "Epoch 82/200\n",
            "101/101 [==============================] - 5s 53ms/step - loss: 0.0085 - accuracy: 0.9940\n",
            "Epoch 83/200\n",
            "101/101 [==============================] - 5s 52ms/step - loss: 0.0071 - accuracy: 0.9940\n",
            "Epoch 84/200\n",
            "101/101 [==============================] - 5s 51ms/step - loss: 0.0082 - accuracy: 0.9940\n",
            "Epoch 85/200\n",
            "101/101 [==============================] - 5s 51ms/step - loss: 0.0078 - accuracy: 0.9940\n",
            "Epoch 86/200\n",
            "101/101 [==============================] - 5s 51ms/step - loss: 0.0079 - accuracy: 0.9960\n",
            "Epoch 87/200\n",
            "101/101 [==============================] - 5s 51ms/step - loss: 0.0073 - accuracy: 0.9921\n",
            "Epoch 88/200\n",
            "101/101 [==============================] - 5s 53ms/step - loss: 0.0082 - accuracy: 0.9940\n",
            "Epoch 89/200\n",
            "101/101 [==============================] - 5s 53ms/step - loss: 0.0079 - accuracy: 0.9940\n",
            "Epoch 90/200\n",
            "101/101 [==============================] - 5s 54ms/step - loss: 0.0075 - accuracy: 0.9940\n",
            "Epoch 91/200\n",
            "101/101 [==============================] - 6s 57ms/step - loss: 0.0077 - accuracy: 0.9940\n",
            "Epoch 92/200\n",
            "101/101 [==============================] - 6s 58ms/step - loss: 0.0077 - accuracy: 0.9960\n",
            "Epoch 93/200\n",
            "101/101 [==============================] - 5s 53ms/step - loss: 0.0074 - accuracy: 0.9940\n",
            "Epoch 94/200\n",
            "101/101 [==============================] - 5s 53ms/step - loss: 0.0076 - accuracy: 0.9940\n",
            "Epoch 95/200\n",
            "101/101 [==============================] - 5s 52ms/step - loss: 0.0077 - accuracy: 0.9940\n",
            "Epoch 96/200\n",
            "101/101 [==============================] - 5s 54ms/step - loss: 0.0078 - accuracy: 0.9940\n",
            "Epoch 97/200\n",
            "101/101 [==============================] - 5s 53ms/step - loss: 0.0072 - accuracy: 0.9940\n",
            "Epoch 98/200\n",
            "101/101 [==============================] - 5s 53ms/step - loss: 0.0075 - accuracy: 0.9921\n",
            "Epoch 99/200\n",
            "101/101 [==============================] - 5s 51ms/step - loss: 0.0070 - accuracy: 0.9940\n",
            "Epoch 100/200\n",
            "101/101 [==============================] - 5s 50ms/step - loss: 0.0080 - accuracy: 0.9940\n",
            "Epoch 101/200\n",
            "101/101 [==============================] - 5s 51ms/step - loss: 0.0074 - accuracy: 0.9960\n",
            "Epoch 102/200\n",
            "101/101 [==============================] - 5s 52ms/step - loss: 0.0073 - accuracy: 0.9940\n",
            "Epoch 103/200\n",
            "101/101 [==============================] - 5s 53ms/step - loss: 0.0072 - accuracy: 0.9940\n",
            "Epoch 104/200\n",
            "101/101 [==============================] - 6s 55ms/step - loss: 0.0076 - accuracy: 0.9940\n",
            "Epoch 105/200\n",
            "101/101 [==============================] - 5s 51ms/step - loss: 0.0072 - accuracy: 0.9921\n",
            "Epoch 106/200\n",
            "101/101 [==============================] - 5s 51ms/step - loss: 0.0077 - accuracy: 0.9940\n",
            "Epoch 107/200\n",
            "101/101 [==============================] - 5s 53ms/step - loss: 0.0069 - accuracy: 0.9921\n",
            "Epoch 108/200\n",
            "101/101 [==============================] - 5s 53ms/step - loss: 0.0075 - accuracy: 0.9960\n",
            "Epoch 109/200\n",
            "101/101 [==============================] - 5s 54ms/step - loss: 0.0071 - accuracy: 0.9921\n",
            "Epoch 110/200\n",
            "101/101 [==============================] - 5s 53ms/step - loss: 0.0071 - accuracy: 0.9940\n",
            "Epoch 111/200\n",
            "101/101 [==============================] - 5s 52ms/step - loss: 0.0072 - accuracy: 0.9921\n",
            "Epoch 112/200\n",
            "101/101 [==============================] - 5s 53ms/step - loss: 0.0076 - accuracy: 0.9960\n",
            "Epoch 113/200\n",
            "101/101 [==============================] - 5s 53ms/step - loss: 0.0066 - accuracy: 0.9921\n",
            "Epoch 114/200\n",
            "101/101 [==============================] - 5s 50ms/step - loss: 0.0071 - accuracy: 0.9960\n",
            "Epoch 115/200\n",
            "101/101 [==============================] - 5s 53ms/step - loss: 0.0072 - accuracy: 0.9940\n",
            "Epoch 116/200\n",
            "101/101 [==============================] - 5s 52ms/step - loss: 0.0067 - accuracy: 0.9960\n",
            "Epoch 117/200\n",
            "101/101 [==============================] - 5s 51ms/step - loss: 0.0071 - accuracy: 0.9921\n",
            "Epoch 118/200\n",
            "101/101 [==============================] - 5s 51ms/step - loss: 0.0069 - accuracy: 0.9940\n",
            "Epoch 119/200\n",
            "101/101 [==============================] - 5s 51ms/step - loss: 0.0073 - accuracy: 0.9940\n",
            "Epoch 120/200\n",
            "101/101 [==============================] - 5s 51ms/step - loss: 0.0066 - accuracy: 0.9940\n",
            "Epoch 121/200\n",
            "101/101 [==============================] - 5s 50ms/step - loss: 0.0063 - accuracy: 0.9940\n",
            "Epoch 122/200\n",
            "101/101 [==============================] - 5s 51ms/step - loss: 0.0066 - accuracy: 0.9960\n",
            "Epoch 123/200\n",
            "101/101 [==============================] - 5s 51ms/step - loss: 0.0063 - accuracy: 0.9960\n",
            "Epoch 124/200\n",
            "101/101 [==============================] - 5s 51ms/step - loss: 0.0071 - accuracy: 0.9960\n",
            "Epoch 125/200\n",
            "101/101 [==============================] - 5s 52ms/step - loss: 0.0071 - accuracy: 0.9940\n",
            "Epoch 126/200\n",
            "101/101 [==============================] - 5s 50ms/step - loss: 0.0067 - accuracy: 0.9960\n",
            "Epoch 127/200\n",
            "101/101 [==============================] - 5s 51ms/step - loss: 0.0069 - accuracy: 0.9940\n",
            "Epoch 128/200\n",
            "101/101 [==============================] - 5s 52ms/step - loss: 0.0069 - accuracy: 0.9940\n",
            "Epoch 129/200\n",
            "101/101 [==============================] - 5s 51ms/step - loss: 0.0068 - accuracy: 0.9960\n",
            "Epoch 130/200\n",
            "101/101 [==============================] - 5s 51ms/step - loss: 0.0068 - accuracy: 0.9921\n",
            "Epoch 131/200\n",
            "101/101 [==============================] - 5s 51ms/step - loss: 0.0069 - accuracy: 0.9940\n",
            "Epoch 132/200\n",
            "101/101 [==============================] - 5s 51ms/step - loss: 0.0064 - accuracy: 0.9921\n",
            "Epoch 133/200\n",
            "101/101 [==============================] - 5s 51ms/step - loss: 0.0069 - accuracy: 0.9921\n",
            "Epoch 134/200\n",
            "101/101 [==============================] - 5s 54ms/step - loss: 0.0069 - accuracy: 0.9940\n",
            "Epoch 135/200\n",
            "101/101 [==============================] - 5s 54ms/step - loss: 0.0068 - accuracy: 0.9940\n",
            "Epoch 136/200\n",
            "101/101 [==============================] - 6s 60ms/step - loss: 0.0066 - accuracy: 0.9921\n",
            "Epoch 137/200\n",
            "101/101 [==============================] - 5s 50ms/step - loss: 0.0066 - accuracy: 0.9940\n",
            "Epoch 138/200\n",
            "101/101 [==============================] - 5s 51ms/step - loss: 0.0063 - accuracy: 0.9960\n",
            "Epoch 139/200\n",
            "101/101 [==============================] - 5s 52ms/step - loss: 0.0066 - accuracy: 0.9960\n",
            "Epoch 140/200\n",
            "101/101 [==============================] - 5s 51ms/step - loss: 0.0065 - accuracy: 0.9921\n",
            "Epoch 141/200\n",
            "101/101 [==============================] - 5s 50ms/step - loss: 0.0064 - accuracy: 0.9921\n",
            "Epoch 142/200\n",
            "101/101 [==============================] - 5s 53ms/step - loss: 0.0067 - accuracy: 0.9921\n",
            "Epoch 143/200\n",
            "101/101 [==============================] - 5s 54ms/step - loss: 0.0067 - accuracy: 0.9960\n",
            "Epoch 144/200\n",
            "101/101 [==============================] - 5s 51ms/step - loss: 0.0060 - accuracy: 0.9940\n",
            "Epoch 145/200\n",
            "101/101 [==============================] - 5s 50ms/step - loss: 0.0068 - accuracy: 0.9940\n",
            "Epoch 146/200\n",
            "101/101 [==============================] - 5s 52ms/step - loss: 0.0065 - accuracy: 0.9960\n",
            "Epoch 147/200\n",
            "101/101 [==============================] - 5s 51ms/step - loss: 0.0063 - accuracy: 0.9921\n",
            "Epoch 148/200\n",
            "101/101 [==============================] - 5s 52ms/step - loss: 0.0068 - accuracy: 0.9940\n",
            "Epoch 149/200\n",
            "101/101 [==============================] - 5s 51ms/step - loss: 0.0064 - accuracy: 0.9921\n",
            "Epoch 150/200\n",
            "101/101 [==============================] - 5s 51ms/step - loss: 0.0064 - accuracy: 0.9921\n",
            "Epoch 151/200\n",
            "101/101 [==============================] - 5s 51ms/step - loss: 0.0064 - accuracy: 0.9921\n",
            "Epoch 152/200\n",
            "101/101 [==============================] - 5s 49ms/step - loss: 0.0066 - accuracy: 0.9960\n",
            "Epoch 153/200\n",
            "101/101 [==============================] - 5s 51ms/step - loss: 0.0063 - accuracy: 0.9921\n",
            "Epoch 154/200\n",
            "101/101 [==============================] - 5s 53ms/step - loss: 0.0065 - accuracy: 0.9940\n",
            "Epoch 155/200\n",
            "101/101 [==============================] - 5s 52ms/step - loss: 0.0066 - accuracy: 0.9940\n",
            "Epoch 156/200\n",
            "101/101 [==============================] - 5s 52ms/step - loss: 0.0064 - accuracy: 0.9940\n",
            "Epoch 157/200\n",
            "101/101 [==============================] - 5s 51ms/step - loss: 0.0065 - accuracy: 0.9940\n",
            "Epoch 158/200\n",
            "101/101 [==============================] - 5s 53ms/step - loss: 0.0063 - accuracy: 0.9960\n",
            "Epoch 159/200\n",
            "101/101 [==============================] - 5s 52ms/step - loss: 0.0064 - accuracy: 0.9960\n",
            "Epoch 160/200\n",
            "101/101 [==============================] - 5s 52ms/step - loss: 0.0062 - accuracy: 0.9960\n",
            "Epoch 161/200\n",
            "101/101 [==============================] - 5s 52ms/step - loss: 0.0062 - accuracy: 0.9960\n",
            "Epoch 162/200\n",
            "101/101 [==============================] - 5s 52ms/step - loss: 0.0059 - accuracy: 0.9960\n",
            "Epoch 163/200\n",
            "101/101 [==============================] - 5s 50ms/step - loss: 0.0061 - accuracy: 0.9940\n",
            "Epoch 164/200\n",
            "101/101 [==============================] - 5s 51ms/step - loss: 0.0065 - accuracy: 0.9940\n",
            "Epoch 165/200\n",
            "101/101 [==============================] - 5s 51ms/step - loss: 0.0062 - accuracy: 0.9940\n",
            "Epoch 166/200\n",
            "101/101 [==============================] - 5s 52ms/step - loss: 0.0063 - accuracy: 0.9940\n",
            "Epoch 167/200\n",
            "101/101 [==============================] - 5s 51ms/step - loss: 0.0064 - accuracy: 0.9940\n",
            "Epoch 168/200\n",
            "101/101 [==============================] - 5s 51ms/step - loss: 0.0062 - accuracy: 0.9960\n",
            "Epoch 169/200\n",
            "101/101 [==============================] - 5s 51ms/step - loss: 0.0063 - accuracy: 0.9940\n",
            "Epoch 170/200\n",
            "101/101 [==============================] - 5s 51ms/step - loss: 0.0063 - accuracy: 0.9960\n",
            "Epoch 171/200\n",
            "101/101 [==============================] - 5s 51ms/step - loss: 0.0063 - accuracy: 0.9940\n",
            "Epoch 172/200\n",
            "101/101 [==============================] - 5s 52ms/step - loss: 0.0057 - accuracy: 0.9940\n",
            "Epoch 173/200\n",
            "101/101 [==============================] - 5s 51ms/step - loss: 0.0062 - accuracy: 0.9960\n",
            "Epoch 174/200\n",
            "101/101 [==============================] - 5s 52ms/step - loss: 0.0062 - accuracy: 0.9960\n",
            "Epoch 175/200\n",
            "101/101 [==============================] - 5s 52ms/step - loss: 0.0061 - accuracy: 0.9921\n",
            "Epoch 176/200\n",
            "101/101 [==============================] - 5s 51ms/step - loss: 0.0057 - accuracy: 0.9940\n",
            "Epoch 177/200\n",
            "101/101 [==============================] - 5s 51ms/step - loss: 0.0063 - accuracy: 0.9940\n",
            "Epoch 178/200\n",
            "101/101 [==============================] - 5s 52ms/step - loss: 0.0062 - accuracy: 0.9940\n",
            "Epoch 179/200\n",
            "101/101 [==============================] - 5s 52ms/step - loss: 0.0059 - accuracy: 0.9960\n",
            "Epoch 180/200\n",
            "101/101 [==============================] - 5s 52ms/step - loss: 0.0062 - accuracy: 0.9940\n",
            "Epoch 181/200\n",
            "101/101 [==============================] - 6s 59ms/step - loss: 0.0062 - accuracy: 0.9940\n",
            "Epoch 182/200\n",
            "101/101 [==============================] - 5s 51ms/step - loss: 0.0058 - accuracy: 0.9940\n",
            "Epoch 183/200\n",
            "101/101 [==============================] - 5s 52ms/step - loss: 0.0062 - accuracy: 0.9940\n",
            "Epoch 184/200\n",
            "101/101 [==============================] - 5s 53ms/step - loss: 0.0059 - accuracy: 0.9960\n",
            "Epoch 185/200\n",
            "101/101 [==============================] - 5s 51ms/step - loss: 0.0061 - accuracy: 0.9921\n",
            "Epoch 186/200\n",
            "101/101 [==============================] - 5s 52ms/step - loss: 0.0060 - accuracy: 0.9940\n",
            "Epoch 187/200\n",
            "101/101 [==============================] - 5s 53ms/step - loss: 0.0061 - accuracy: 0.9921\n",
            "Epoch 188/200\n",
            "101/101 [==============================] - 5s 52ms/step - loss: 0.0059 - accuracy: 0.9940\n",
            "Epoch 189/200\n",
            "101/101 [==============================] - 5s 54ms/step - loss: 0.0059 - accuracy: 0.9940\n",
            "Epoch 190/200\n",
            "101/101 [==============================] - 6s 55ms/step - loss: 0.0061 - accuracy: 0.9940\n",
            "Epoch 191/200\n",
            "101/101 [==============================] - 6s 55ms/step - loss: 0.0061 - accuracy: 0.9921\n",
            "Epoch 192/200\n",
            "101/101 [==============================] - 6s 55ms/step - loss: 0.0060 - accuracy: 0.9921\n",
            "Epoch 193/200\n",
            "101/101 [==============================] - 6s 55ms/step - loss: 0.0061 - accuracy: 0.9940\n",
            "Epoch 194/200\n",
            "101/101 [==============================] - 6s 55ms/step - loss: 0.0060 - accuracy: 0.9940\n",
            "Epoch 195/200\n",
            "101/101 [==============================] - 6s 56ms/step - loss: 0.0060 - accuracy: 0.9960\n",
            "Epoch 196/200\n",
            "101/101 [==============================] - 6s 55ms/step - loss: 0.0059 - accuracy: 0.9940\n",
            "Epoch 197/200\n",
            "101/101 [==============================] - 5s 54ms/step - loss: 0.0061 - accuracy: 0.9940\n",
            "Epoch 198/200\n",
            "101/101 [==============================] - 6s 55ms/step - loss: 0.0060 - accuracy: 0.9921\n",
            "Epoch 199/200\n",
            "101/101 [==============================] - 5s 53ms/step - loss: 0.0060 - accuracy: 0.9940\n",
            "Epoch 200/200\n",
            "101/101 [==============================] - 6s 56ms/step - loss: 0.0060 - accuracy: 0.9921\n"
          ]
        }
      ]
    },
    {
      "cell_type": "markdown",
      "source": [
        "\n",
        "\n",
        "Model training accuracy = 0.96 yaitu; 96%"
      ],
      "metadata": {
        "id": "eRzGTCZc3DcQ"
      }
    },
    {
      "cell_type": "markdown",
      "source": [
        "**Save Model**"
      ],
      "metadata": {
        "id": "zEAsILHCyN-Y"
      }
    },
    {
      "cell_type": "code",
      "source": [
        "#save model\n",
        "model.save('lstm_model.h5',train)\n",
        "print('Model Saved Successfully!')"
      ],
      "metadata": {
        "id": "wzQ5v1ZFyJ5Y",
        "colab": {
          "base_uri": "https://localhost:8080/"
        },
        "outputId": "419f42f6-5dea-4637-c39b-7d937d308db3"
      },
      "execution_count": 72,
      "outputs": [
        {
          "output_type": "stream",
          "name": "stdout",
          "text": [
            "Model Saved Successfully!\n"
          ]
        }
      ]
    },
    {
      "cell_type": "markdown",
      "metadata": {
        "id": "4hAyuQ-ObSQ2"
      },
      "source": [
        "# **Model Analysis**\n",
        "\n",
        "Setelah menjalankan model fitting. Selanjutnya adalah analisa model untuk melihat hasil akurasi dan arsitektur dari model Neural Network tersebut."
      ]
    },
    {
      "cell_type": "markdown",
      "source": [
        "**Loss and Accuracy Graphics**"
      ],
      "metadata": {
        "id": "nIGKcghFy4Jv"
      }
    },
    {
      "cell_type": "code",
      "execution_count": 70,
      "metadata": {
        "id": "wbz1uhmFbFQ4",
        "colab": {
          "base_uri": "https://localhost:8080/",
          "height": 336
        },
        "outputId": "2c471137-922c-47ad-bca5-76e5c9c669e8"
      },
      "outputs": [
        {
          "output_type": "display_data",
          "data": {
            "text/plain": [
              "<Figure size 1008x360 with 2 Axes>"
            ],
            "image/png": "[encoded data removed]"
          },
          "metadata": {
            "needs_background": "light"
          }
        }
      ],
      "source": [
        "# Plotting model Accuracy and Loss (Visualisasi Plot Hasil Akurasi dan Loss)\n",
        "# Plot Akurasi\n",
        "plt.figure(figsize=(14, 5))\n",
        "plt.subplot(1, 2, 1)\n",
        "plt.plot(train.history['accuracy'],label='Training Set Accuracy')\n",
        "plt.legend(loc='lower right')\n",
        "plt.title('Accuracy')\n",
        "# Plot Loss\n",
        "plt.subplot(1, 2, 2)\n",
        "plt.plot(train.history['loss'],label='Training Set Loss')\n",
        "plt.legend(loc='upper right')\n",
        "plt.title('Loss')\n",
        "plt.show()"
      ]
    },
    {
      "cell_type": "code",
      "source": [
        "# Visualization Plot Architecture Model (Visualisasi Plot Arsitektur Model)\n",
        "plot_model(model, to_file='/content/model_plot.png', show_shapes=True, show_layer_names=True)"
      ],
      "metadata": {
        "id": "XxMRk8f9susn",
        "colab": {
          "base_uri": "https://localhost:8080/",
          "height": 533
        },
        "outputId": "80e57268-bb94-47ab-f38d-2b44cad2d33b"
      },
      "execution_count": 71,
      "outputs": [
        {
          "output_type": "execute_result",
          "data": {
            "image/png": "[encoded data removed]",
            "text/plain": [
              "<IPython.core.display.Image object>"
            ]
          },
          "metadata": {},
          "execution_count": 71
        }
      ]
    },
    {
      "cell_type": "markdown",
      "source": [
        "\n",
        "\n",
        "*   Encoder input hadir di layer Embedding (encoder embedding)\n",
        "*   Output dari layer Embedding menuju ke cell LSTM yang menghasilkan state vector\n",
        "* Ini diatur dalam cell LSTM decoder\n",
        "* Decoder input masuk melalui layer Embedding\n",
        "* Embedding masuk dalam cell LSTM untuk menghasilkan urutan\n",
        "\n",
        "![Process-flow-of-Encoder-Decoder.png](data:image/png;base64,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)"
      ],
      "metadata": {
        "id": "dzE2Yq0R1AxS"
      }
    }
  ]
}